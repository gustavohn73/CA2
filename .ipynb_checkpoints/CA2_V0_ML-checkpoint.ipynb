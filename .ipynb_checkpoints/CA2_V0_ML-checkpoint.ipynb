{
 "cells": [
  {
   "cell_type": "raw",
   "id": "e79a4e90-9825-447a-ae88-c93f9505717c",
   "metadata": {},
   "source": [
    "!pip install textblob\n",
    "!pip install vaderSentiment\n",
    "!pip install nltk"
   ]
  },
  {
   "cell_type": "code",
   "execution_count": 82,
   "id": "1089dd83-4193-43ae-ad4c-fda87e659897",
   "metadata": {},
   "outputs": [],
   "source": [
    "import sys,tweepy,csv,re, requests, json\n",
    "import matplotlib.pyplot as plt\n",
    "from dotenv import dotenv_values\n",
    "import pandas as pd\n",
    "import numpy as np\n",
    "\n",
    "\n",
    "from vaderSentiment.vaderSentiment import SentimentIntensityAnalyzer\n",
    "from textblob import TextBlob"
   ]
  },
  {
   "cell_type": "code",
   "execution_count": 62,
   "id": "b30cfb27-cb88-4c26-9801-2f4e55e9cf80",
   "metadata": {},
   "outputs": [],
   "source": [
    "import warnings\n",
    "warnings.filterwarnings('ignore') # We can suppress the warnings"
   ]
  },
  {
   "cell_type": "markdown",
   "id": "cfbf0efa-7921-4ea7-a523-9661f26befd5",
   "metadata": {},
   "source": [
    "# Getting Twitter"
   ]
  },
  {
   "cell_type": "code",
   "execution_count": 27,
   "id": "0258f1ec-83c2-453d-84e1-1db7ded3603e",
   "metadata": {},
   "outputs": [],
   "source": [
    "#token\n",
    "config = dotenv_values(\".env\")\n",
    "bearer_token = config['BEARER_TOKEN']\n",
    "\n",
    "\n",
    "#connections\n",
    "auth = tweepy.OAuth2BearerHandler({bearer_token})\n",
    "api = tweepy.API(auth)\n",
    "\n",
    "\n",
    "search_url = 'https://api.twitter.com/2/tweets/search/recent'\n",
    "#search_url = 'https://api.twitter.com/1.1/search/tweets.json?'\n",
    "\n",
    "\n",
    "def bearer_oauth(r):\n",
    "    r.headers[\"Authorization\"] = f\"Bearer {bearer_token}\"\n",
    "    r.headers[\"User-Agent\"] = \"v2RecentSearchPython\"\n",
    "    return r\n",
    "\n",
    "def connect_to_endpoint(url, params):\n",
    "    response = requests.get(url, auth=bearer_oauth, params=params)\n",
    "    #print(response.status_code)\n",
    "    if response.status_code != 200:\n",
    "        raise Exception(response.status_code, response.text)\n",
    "    return response.json()"
   ]
  },
  {
   "cell_type": "code",
   "execution_count": 29,
   "id": "11e664e2-de32-4110-8f85-5d79880cdf4e",
   "metadata": {},
   "outputs": [],
   "source": [
    "NoOfTerms = int(10)\n",
    "\n",
    "query_params = {\n",
    "    #'q' : 'beef OR milk place:ea679934779f45c7',\n",
    "    'query': 'Irish Farmers agriculture -is:retweet',\n",
    "    'max_results': f'{NoOfTerms}',\n",
    "    'expansions': 'author_id,in_reply_to_user_id,geo.place_id',\n",
    "    'tweet.fields': 'id,text,author_id,in_reply_to_user_id,geo,conversation_id,created_at,lang,public_metrics,referenced_tweets,reply_settings,source',\n",
    "    'user.fields': 'id,name,username,created_at,description,public_metrics,verified',\n",
    "    'place.fields': 'full_name,id,country,country_code,geo,name,place_type',\n",
    "}\n",
    "\n"
   ]
  },
  {
   "cell_type": "code",
   "execution_count": 30,
   "id": "00c5f8a4-0985-4d93-91cd-83512cd6330e",
   "metadata": {},
   "outputs": [],
   "source": [
    "# Querying the API\n",
    "json_response = connect_to_endpoint(search_url, query_params)\n",
    "\n",
    "# Parsing the response\n",
    "parsedRes = json.dumps(json_response, indent=4, sort_keys=True, ensure_ascii=False)\n",
    "#print(parsedRes)"
   ]
  },
  {
   "cell_type": "code",
   "execution_count": 236,
   "id": "db9393b2-b7f0-4f4d-8256-d50a174d1511",
   "metadata": {},
   "outputs": [],
   "source": [
    "tweets_dt = pd.DataFrame.from_dict(json_response['data'])"
   ]
  },
  {
   "cell_type": "code",
   "execution_count": 237,
   "id": "981857ad-12c9-41a8-a895-63919f2f3c24",
   "metadata": {},
   "outputs": [
    {
     "data": {
      "text/html": [
       "<div>\n",
       "<style scoped>\n",
       "    .dataframe tbody tr th:only-of-type {\n",
       "        vertical-align: middle;\n",
       "    }\n",
       "\n",
       "    .dataframe tbody tr th {\n",
       "        vertical-align: top;\n",
       "    }\n",
       "\n",
       "    .dataframe thead th {\n",
       "        text-align: right;\n",
       "    }\n",
       "</style>\n",
       "<table border=\"1\" class=\"dataframe\">\n",
       "  <thead>\n",
       "    <tr style=\"text-align: right;\">\n",
       "      <th></th>\n",
       "      <th>in_reply_to_user_id</th>\n",
       "      <th>public_metrics</th>\n",
       "      <th>id</th>\n",
       "      <th>lang</th>\n",
       "      <th>author_id</th>\n",
       "      <th>source</th>\n",
       "      <th>text</th>\n",
       "      <th>conversation_id</th>\n",
       "      <th>edit_history_tweet_ids</th>\n",
       "      <th>referenced_tweets</th>\n",
       "      <th>reply_settings</th>\n",
       "      <th>created_at</th>\n",
       "    </tr>\n",
       "  </thead>\n",
       "  <tbody>\n",
       "    <tr>\n",
       "      <th>6</th>\n",
       "      <td>2589328316</td>\n",
       "      <td>{'retweet_count': 0, 'reply_count': 1, 'like_c...</td>\n",
       "      <td>1603354556380889089</td>\n",
       "      <td>en</td>\n",
       "      <td>1113016486321405952</td>\n",
       "      <td>Twitter Web App</td>\n",
       "      <td>@agriculture_ie @McConalogue @UKRinIRL @Gerask...</td>\n",
       "      <td>1603033104960167936</td>\n",
       "      <td>[1603354556380889089]</td>\n",
       "      <td>[{'type': 'replied_to', 'id': '160303310496016...</td>\n",
       "      <td>everyone</td>\n",
       "      <td>2022-12-15T11:41:29.000Z</td>\n",
       "    </tr>\n",
       "  </tbody>\n",
       "</table>\n",
       "</div>"
      ],
      "text/plain": [
       "  in_reply_to_user_id                                     public_metrics  \\\n",
       "6          2589328316  {'retweet_count': 0, 'reply_count': 1, 'like_c...   \n",
       "\n",
       "                    id lang            author_id           source  \\\n",
       "6  1603354556380889089   en  1113016486321405952  Twitter Web App   \n",
       "\n",
       "                                                text      conversation_id  \\\n",
       "6  @agriculture_ie @McConalogue @UKRinIRL @Gerask...  1603033104960167936   \n",
       "\n",
       "  edit_history_tweet_ids                                  referenced_tweets  \\\n",
       "6  [1603354556380889089]  [{'type': 'replied_to', 'id': '160303310496016...   \n",
       "\n",
       "  reply_settings                created_at  \n",
       "6       everyone  2022-12-15T11:41:29.000Z  "
      ]
     },
     "execution_count": 237,
     "metadata": {},
     "output_type": "execute_result"
    }
   ],
   "source": [
    "tweets = tweets_dt\n",
    "tweets.sample()"
   ]
  },
  {
   "cell_type": "markdown",
   "id": "a4aeddaa-cefe-4e2e-8de2-2da07673ba09",
   "metadata": {},
   "source": [
    "# Clean Your Text Data"
   ]
  },
  {
   "cell_type": "code",
   "execution_count": 63,
   "id": "50d86504-3bc1-443b-8827-e0f0e5e3291e",
   "metadata": {},
   "outputs": [
    {
     "name": "stderr",
     "output_type": "stream",
     "text": [
      "[nltk_data] Downloading package stopwords to\n",
      "[nltk_data]     /Users/gustavo/nltk_data...\n",
      "[nltk_data]   Package stopwords is already up-to-date!\n"
     ]
    }
   ],
   "source": [
    "import nltk\n",
    "from nltk.corpus import stopwords\n",
    "nltk.download('stopwords')\n",
    "\n",
    "import string\n",
    "from nltk.stem import PorterStemmer"
   ]
  },
  {
   "cell_type": "markdown",
   "id": "dead89be-b008-457a-b756-743f9679d0a6",
   "metadata": {},
   "source": [
    "## Worlds extractions"
   ]
  },
  {
   "cell_type": "code",
   "execution_count": 215,
   "id": "e77d4845-61f5-473f-8c7d-10007e17c096",
   "metadata": {},
   "outputs": [],
   "source": [
    "\n",
    "# keyword extraction from tweets\n",
    "def keyword_list(x):\n",
    "    list_of_keywords = []\n",
    "    words = x.split()\n",
    "    for word in words:\n",
    "        if word.startswith('#'):\n",
    "            list_of_keywords.append(word)\n",
    "    list_of_lists.append(list_of_keywords)\n",
    "\n",
    "    \n",
    "# username extraction from tweets\n",
    "def usernames_list(x):\n",
    "    list_of_usernames = []\n",
    "    words = x.split()\n",
    "    for word in words:\n",
    "        if word.startswith('@'):\n",
    "            list_of_usernames.append(word.lower().replace('@',''))\n",
    "    list_of_lists.append(list_of_usernames)\n"
   ]
  },
  {
   "cell_type": "code",
   "execution_count": 238,
   "id": "b8124cef-845e-4644-a0de-32f69d6be4dd",
   "metadata": {},
   "outputs": [],
   "source": [
    "list_of_lists = []\n",
    "\n",
    "#tweets['text'].apply( lambda tweet : keyword_list(tweet) )\n",
    "tweets['text'].apply( lambda tweet : usernames_list(tweet) )\n",
    "\n",
    "rem_list = [item for sublist in list_of_lists for item in sublist]\n",
    "\n",
    "tweets['text_c'] = tweets['text'].apply( lambda tweet : ' '.join([word for word in re.split(\"\\W+\",tweet) if word.lower() not in rem_list]))"
   ]
  },
  {
   "cell_type": "code",
   "execution_count": 239,
   "id": "3aacee4f-7872-4d82-9c7d-e26b40459c3f",
   "metadata": {},
   "outputs": [
    {
     "name": "stdout",
     "output_type": "stream",
     "text": [
      "@MarkBehan4 @McConalogue @GeraskoLarysa @FAO @agriculture_ie @FAODG @fiannafailparty @OgraFiannaFail OK this I agree with, their duty firstly should be to irish farmers, plenty of them struggling. \n",
      "\n",
      " OK this I agree with their duty firstly should be to irish farmers plenty of them struggling \n"
     ]
    }
   ],
   "source": [
    "print(tweets['text'][0], '\\n')\n",
    "print(tweets['text_c'][0])"
   ]
  },
  {
   "cell_type": "markdown",
   "id": "5d7baa5f-06a3-4400-b4e2-53b83b870241",
   "metadata": {},
   "source": [
    "## PoterStemmer"
   ]
  },
  {
   "cell_type": "code",
   "execution_count": 240,
   "id": "3d017ded-762a-4d2e-83a1-5c77ddd7a2c1",
   "metadata": {},
   "outputs": [],
   "source": [
    "# Store the stopwords into the object named as \"stop_words\"\n",
    "stop_words = stopwords.words('english')\n",
    "\n",
    "# Store the string.punctuation into an object punct\n",
    "punct = string.punctuation\n",
    "\n",
    "# Initialise an object using a method PorterStemmer\n",
    "stemmer = PorterStemmer()"
   ]
  },
  {
   "cell_type": "code",
   "execution_count": 241,
   "id": "22f436cc-944d-421b-9e5f-b0d8b9db2720",
   "metadata": {},
   "outputs": [],
   "source": [
    "import re\n",
    "\n",
    "# Store the column of the dataframe named as \"text\"\n",
    "X = tweets['text_c']\n",
    "\n",
    "cleaned_data=[]\n",
    "\n",
    "# For loop from first value to length(X), ^a-zA-Z means include small and capital case letters\n",
    "\n",
    "for i in range(len(X)):\n",
    "    tweet = re.sub('[^a-zA-Z]', ' ', X.iloc[i])\n",
    "    tweet = tweet.lower().split()\n",
    "    tweet = [stemmer.stem(word) for word in tweet if (word not in stop_words) and (word not in punct)]\n",
    "    tweet = ' '.join(tweet)\n",
    "    cleaned_data.append(tweet)"
   ]
  },
  {
   "cell_type": "code",
   "execution_count": 242,
   "id": "1bf02984-820b-4a28-8f1a-dd801d25c847",
   "metadata": {},
   "outputs": [
    {
     "name": "stdout",
     "output_type": "stream",
     "text": [
      "@MarkBehan4 @McConalogue @GeraskoLarysa @FAO @agriculture_ie @FAODG @fiannafailparty @OgraFiannaFail OK this I agree with, their duty firstly should be to irish farmers, plenty of them struggling. \n",
      "\n",
      "ok agre duti firstli irish farmer plenti struggl\n"
     ]
    }
   ],
   "source": [
    "print(tweets['text'][0], '\\n')\n",
    "print(cleaned_data[0])"
   ]
  },
  {
   "cell_type": "markdown",
   "id": "1c75f0ff-efcc-4bc1-8f83-5cfe08074244",
   "metadata": {},
   "source": [
    "# Sentiment Analyzes"
   ]
  },
  {
   "cell_type": "code",
   "execution_count": 243,
   "id": "be6f0424-270d-4d33-a4d2-a561f9dc4d06",
   "metadata": {},
   "outputs": [
    {
     "data": {
      "text/html": [
       "<div>\n",
       "<style scoped>\n",
       "    .dataframe tbody tr th:only-of-type {\n",
       "        vertical-align: middle;\n",
       "    }\n",
       "\n",
       "    .dataframe tbody tr th {\n",
       "        vertical-align: top;\n",
       "    }\n",
       "\n",
       "    .dataframe thead th {\n",
       "        text-align: right;\n",
       "    }\n",
       "</style>\n",
       "<table border=\"1\" class=\"dataframe\">\n",
       "  <thead>\n",
       "    <tr style=\"text-align: right;\">\n",
       "      <th></th>\n",
       "      <th>in_reply_to_user_id</th>\n",
       "      <th>public_metrics</th>\n",
       "      <th>id</th>\n",
       "      <th>lang</th>\n",
       "      <th>author_id</th>\n",
       "      <th>source</th>\n",
       "      <th>text</th>\n",
       "      <th>conversation_id</th>\n",
       "      <th>edit_history_tweet_ids</th>\n",
       "      <th>referenced_tweets</th>\n",
       "      <th>reply_settings</th>\n",
       "      <th>created_at</th>\n",
       "      <th>text_c</th>\n",
       "      <th>TextBlob</th>\n",
       "      <th>Vader</th>\n",
       "    </tr>\n",
       "  </thead>\n",
       "  <tbody>\n",
       "    <tr>\n",
       "      <th>6</th>\n",
       "      <td>2589328316</td>\n",
       "      <td>{'retweet_count': 0, 'reply_count': 1, 'like_c...</td>\n",
       "      <td>1603354556380889089</td>\n",
       "      <td>en</td>\n",
       "      <td>1113016486321405952</td>\n",
       "      <td>Twitter Web App</td>\n",
       "      <td>@agriculture_ie @McConalogue @UKRinIRL @Gerask...</td>\n",
       "      <td>1603033104960167936</td>\n",
       "      <td>[1603354556380889089]</td>\n",
       "      <td>[{'type': 'replied_to', 'id': '160303310496016...</td>\n",
       "      <td>everyone</td>\n",
       "      <td>2022-12-15T11:41:29.000Z</td>\n",
       "      <td>Great any chance you might do something for i...</td>\n",
       "      <td>0.4</td>\n",
       "      <td>0.6249</td>\n",
       "    </tr>\n",
       "    <tr>\n",
       "      <th>1</th>\n",
       "      <td>NaN</td>\n",
       "      <td>{'retweet_count': 1, 'reply_count': 0, 'like_c...</td>\n",
       "      <td>1603760301194739712</td>\n",
       "      <td>en</td>\n",
       "      <td>1321217184459272193</td>\n",
       "      <td>Twitter Web App</td>\n",
       "      <td>Celebrating🌍Africa’s food and farmers | Joan B...</td>\n",
       "      <td>1603760301194739712</td>\n",
       "      <td>[1603760301194739712]</td>\n",
       "      <td>NaN</td>\n",
       "      <td>everyone</td>\n",
       "      <td>2022-12-16T14:33:46.000Z</td>\n",
       "      <td>Celebrating Africa s food and farmers Joan Bax...</td>\n",
       "      <td>0.0</td>\n",
       "      <td>0.0000</td>\n",
       "    </tr>\n",
       "  </tbody>\n",
       "</table>\n",
       "</div>"
      ],
      "text/plain": [
       "  in_reply_to_user_id                                     public_metrics  \\\n",
       "6          2589328316  {'retweet_count': 0, 'reply_count': 1, 'like_c...   \n",
       "1                 NaN  {'retweet_count': 1, 'reply_count': 0, 'like_c...   \n",
       "\n",
       "                    id lang            author_id           source  \\\n",
       "6  1603354556380889089   en  1113016486321405952  Twitter Web App   \n",
       "1  1603760301194739712   en  1321217184459272193  Twitter Web App   \n",
       "\n",
       "                                                text      conversation_id  \\\n",
       "6  @agriculture_ie @McConalogue @UKRinIRL @Gerask...  1603033104960167936   \n",
       "1  Celebrating🌍Africa’s food and farmers | Joan B...  1603760301194739712   \n",
       "\n",
       "  edit_history_tweet_ids                                  referenced_tweets  \\\n",
       "6  [1603354556380889089]  [{'type': 'replied_to', 'id': '160303310496016...   \n",
       "1  [1603760301194739712]                                                NaN   \n",
       "\n",
       "  reply_settings                created_at  \\\n",
       "6       everyone  2022-12-15T11:41:29.000Z   \n",
       "1       everyone  2022-12-16T14:33:46.000Z   \n",
       "\n",
       "                                              text_c  TextBlob   Vader  \n",
       "6   Great any chance you might do something for i...       0.4  0.6249  \n",
       "1  Celebrating Africa s food and farmers Joan Bax...       0.0  0.0000  "
      ]
     },
     "execution_count": 243,
     "metadata": {},
     "output_type": "execute_result"
    }
   ],
   "source": [
    "for i in range(len(cleaned_data)):\n",
    "    text = cleaned_data[i]\n",
    "    tweets.loc[i, 'TextBlob'] = TextBlob(text).sentiment.polarity\n",
    "    #print(TextBlob(text).sentiment.polarity)\n",
    "    tweets.loc[i, 'Vader'] = SentimentIntensityAnalyzer().polarity_scores(text)['compound']\n",
    "    #print(SentimentIntensityAnalyzer().polarity_scores(text)['compound'], '\\n')\n",
    "    \n",
    "tweets.sample(2)"
   ]
  },
  {
   "cell_type": "code",
   "execution_count": 256,
   "id": "20692767-6953-4c5a-afc3-c572133f1b22",
   "metadata": {},
   "outputs": [],
   "source": [
    "def get_polarity(df, col):\n",
    "\n",
    "    polarity = 0\n",
    "    neutral = 0\n",
    "    wpositive = 0\n",
    "    positive = 0\n",
    "    spositive = 0\n",
    "    wnegative = 0\n",
    "    negative = 0\n",
    "    snegative = 0\n",
    "     \n",
    "    for t in df.index:\n",
    "        \n",
    "        v = df.loc[t, col]\n",
    "        polarity += v  # adding up polarities to find the average later\n",
    "\n",
    "        if (v == 0):  # adding reaction of how people are reacting to find average later\n",
    "            neutral += 1\n",
    "        elif (v > 0 and v <= 0.3):\n",
    "            wpositive += 1\n",
    "        elif (v > 0.3 and v <= 0.6):\n",
    "            positive += 1\n",
    "        elif (v > 0.6 and v <= 1):\n",
    "            spositive += 1\n",
    "        elif (v > -0.3 and v <= 0):\n",
    "            wnegative += 1\n",
    "        elif (v > -0.6 and v <= -0.3):\n",
    "            negative += 1\n",
    "        elif (v > -1 and v <= -0.6):\n",
    "            snegative += 1\n",
    "\n",
    "    return {'polarity_sum':polarity,\n",
    "            'polarity_mean':(polarity / len(df)),\n",
    "            'neutral':neutral,\n",
    "            'strong_positive':spositive,\n",
    "            'positive':positive,\n",
    "            'weak_positive':wpositive,\n",
    "            'weak_negative':wnegative,\n",
    "            'negative':negative,\n",
    "            'strong_negative':snegative}\n",
    "\n",
    "\n"
   ]
  },
  {
   "cell_type": "code",
   "execution_count": 257,
   "id": "90a9864e-2155-4fc0-9154-82d2544a2da9",
   "metadata": {},
   "outputs": [
    {
     "data": {
      "text/plain": [
       "{'polarity_sum': 0.9783333333333334,\n",
       " 'polarity_mean': 0.09783333333333334,\n",
       " 'neutral': 5,\n",
       " 'strong_positive': 0,\n",
       " 'positive': 1,\n",
       " 'weak_positive': 4,\n",
       " 'weak_negative': 0,\n",
       " 'negative': 0,\n",
       " 'strong_negative': 0}"
      ]
     },
     "execution_count": 257,
     "metadata": {},
     "output_type": "execute_result"
    }
   ],
   "source": [
    "get_polarity(tweets,'TextBlob')"
   ]
  },
  {
   "cell_type": "code",
   "execution_count": 258,
   "id": "58ccdc01-f6c2-4a3f-9e1a-ea8688effb1b",
   "metadata": {},
   "outputs": [
    {
     "data": {
      "text/plain": [
       "{'polarity_sum': 3.9924999999999997,\n",
       " 'polarity_mean': 0.39925,\n",
       " 'neutral': 1,\n",
       " 'strong_positive': 2,\n",
       " 'positive': 5,\n",
       " 'weak_positive': 1,\n",
       " 'weak_negative': 1,\n",
       " 'negative': 0,\n",
       " 'strong_negative': 0}"
      ]
     },
     "execution_count": 258,
     "metadata": {},
     "output_type": "execute_result"
    }
   ],
   "source": [
    "get_polarity(tweets,'Vader')"
   ]
  },
  {
   "cell_type": "code",
   "execution_count": 264,
   "id": "08037309-5f05-4a22-a1a4-c6506eae11fc",
   "metadata": {},
   "outputs": [
    {
     "data": {
      "text/plain": [
       "0.1625"
      ]
     },
     "execution_count": 264,
     "metadata": {},
     "output_type": "execute_result"
    }
   ],
   "source": [
    "TextBlob().sentiment.polarity"
   ]
  },
  {
   "cell_type": "code",
   "execution_count": 265,
   "id": "b5f7f77f-360b-42a5-86e9-85ab4d6401a3",
   "metadata": {},
   "outputs": [
    {
     "data": {
      "text/plain": [
       "0.1689"
      ]
     },
     "execution_count": 265,
     "metadata": {},
     "output_type": "execute_result"
    }
   ],
   "source": [
    "SentimentIntensityAnalyzer().polarity_scores('Im too sad today so i become happy and started to cry of hapness in a dark room, ive lost the love of my life')['compound']"
   ]
  },
  {
   "cell_type": "code",
   "execution_count": null,
   "id": "db5c2e3c-a707-450f-bb85-c7327834ad00",
   "metadata": {},
   "outputs": [],
   "source": []
  }
 ],
 "metadata": {
  "kernelspec": {
   "display_name": "Python 3 (ipykernel)",
   "language": "python",
   "name": "python3"
  },
  "language_info": {
   "codemirror_mode": {
    "name": "ipython",
    "version": 3
   },
   "file_extension": ".py",
   "mimetype": "text/x-python",
   "name": "python",
   "nbconvert_exporter": "python",
   "pygments_lexer": "ipython3",
   "version": "3.9.13"
  }
 },
 "nbformat": 4,
 "nbformat_minor": 5
}
