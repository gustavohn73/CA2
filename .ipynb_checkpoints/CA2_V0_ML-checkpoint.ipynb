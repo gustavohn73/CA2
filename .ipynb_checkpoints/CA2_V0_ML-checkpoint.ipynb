{
 "cells": [
  {
   "cell_type": "markdown",
   "id": "74a2b37d-661a-4bec-84fc-6803d3f4519c",
   "metadata": {},
   "source": [
    "# Settings"
   ]
  },
  {
   "cell_type": "raw",
   "id": "e79a4e90-9825-447a-ae88-c93f9505717c",
   "metadata": {},
   "source": [
    "!pip install textblob\n",
    "!pip install vaderSentiment\n",
    "!pip install nltk\n",
    "!pip install opendatasets"
   ]
  },
  {
   "cell_type": "markdown",
   "id": "2ab86713-fd1a-4530-bbf1-218b9c04a44b",
   "metadata": {},
   "source": [
    "## Imports"
   ]
  },
  {
   "cell_type": "code",
   "execution_count": 1,
   "id": "1089dd83-4193-43ae-ad4c-fda87e659897",
   "metadata": {},
   "outputs": [],
   "source": [
    "import sys,tweepy,csv,re, requests, json\n",
    "import matplotlib.pyplot as plt\n",
    "from dotenv import dotenv_values\n",
    "import pandas as pd\n",
    "import numpy as np\n",
    "import os.path\n",
    "\n",
    "\n",
    "from vaderSentiment.vaderSentiment import SentimentIntensityAnalyzer\n",
    "from textblob import TextBlob"
   ]
  },
  {
   "cell_type": "code",
   "execution_count": 2,
   "id": "b30cfb27-cb88-4c26-9801-2f4e55e9cf80",
   "metadata": {},
   "outputs": [],
   "source": [
    "import warnings\n",
    "warnings.filterwarnings('ignore') # We can suppress the warnings"
   ]
  },
  {
   "cell_type": "markdown",
   "id": "cfbf0efa-7921-4ea7-a523-9661f26befd5",
   "metadata": {},
   "source": [
    "# Getting Twitter"
   ]
  },
  {
   "cell_type": "code",
   "execution_count": 3,
   "id": "0258f1ec-83c2-453d-84e1-1db7ded3603e",
   "metadata": {},
   "outputs": [],
   "source": [
    "#token\n",
    "config = dotenv_values(\".env\")\n",
    "bearer_token = config['BEARER_TOKEN']\n",
    "\n",
    "\n",
    "#connections\n",
    "auth = tweepy.OAuth2BearerHandler({bearer_token})\n",
    "api = tweepy.API(auth)\n",
    "\n",
    "\n",
    "\n",
    "\n",
    "def bearer_oauth(r):\n",
    "    r.headers[\"Authorization\"] = f\"Bearer {bearer_token}\"\n",
    "    r.headers[\"User-Agent\"] = \"v2RecentSearchPython\"\n",
    "    return r\n",
    "\n",
    "def connect_to_endpoint(url, params):\n",
    "    response = requests.get(url, auth=bearer_oauth, params=params)\n",
    "    #print(response.status_code)\n",
    "    if response.status_code != 200:\n",
    "        raise Exception(response.status_code, response.text)\n",
    "    return response.json()\n",
    "\n",
    "def get_tweets(query,file_name):\n",
    "    search_url = 'https://api.twitter.com/2/tweets/search/recent'\n",
    "    #search_url = 'https://api.twitter.com/1.1/search/tweets.json?'\n",
    "\n",
    "    file_name = f'{file_name}.bz2'\n",
    "    \n",
    "    if os.path.exists(file_name) == False: #First checking if database exists\n",
    "        print(f'Getting tweets...')\n",
    "        \n",
    "        # Querying the API\n",
    "        json_response = connect_to_endpoint(search_url, query)\n",
    "        \n",
    "        '''\n",
    "        It's necessary to complement with next twitters\n",
    "        '''\n",
    " \n",
    "        tweets_dt = pd.DataFrame.from_dict(json_response['data'])\n",
    "        tweets_dt.to_csv(file_name, index=False,compression='bz2')\n",
    "        \n",
    "    else:\n",
    "        create_dt = time.strftime(\"%d/%m/%Y %H:%M:%S\",time.strptime(time.ctime(os.path.getmtime(file_name))))\n",
    "        print(f'Reading {file_name}, created at {create_dt}')\n",
    "        tweets_dt = pd.read_csv(file_name)\n",
    "        \n",
    "    return tweets_dt"
   ]
  },
  {
   "cell_type": "code",
   "execution_count": 4,
   "id": "11e664e2-de32-4110-8f85-5d79880cdf4e",
   "metadata": {},
   "outputs": [],
   "source": [
    "NoOfTerms = int(10)\n",
    "\n",
    "query_params = {\n",
    "    #'q' : 'beef OR milk place:ea679934779f45c7',\n",
    "    'query': 'Irish Farmers agriculture -is:retweet',\n",
    "    'max_results': f'{NoOfTerms}',\n",
    "    'expansions': 'author_id,in_reply_to_user_id,geo.place_id',\n",
    "    'tweet.fields': 'id,text,author_id,in_reply_to_user_id,geo,conversation_id,created_at,lang,public_metrics,referenced_tweets,reply_settings,source',\n",
    "    'user.fields': 'id,name,username,created_at,description,public_metrics,verified',\n",
    "    'place.fields': 'full_name,id,country,country_code,geo,name,place_type',\n",
    "}\n"
   ]
  },
  {
   "cell_type": "raw",
   "id": "88e09659-5e7d-458c-a5e4-d93e65a2d301",
   "metadata": {},
   "source": [
    "# Parsing the response\n",
    "parsedRes = json.dumps(json_response, indent=4, sort_keys=True, ensure_ascii=False)\n",
    "print(parsedRes)"
   ]
  },
  {
   "cell_type": "code",
   "execution_count": 5,
   "id": "db9393b2-b7f0-4f4d-8256-d50a174d1511",
   "metadata": {},
   "outputs": [
    {
     "name": "stdout",
     "output_type": "stream",
     "text": [
      "Getting tweets...\n"
     ]
    },
    {
     "data": {
      "text/html": [
       "<div>\n",
       "<style scoped>\n",
       "    .dataframe tbody tr th:only-of-type {\n",
       "        vertical-align: middle;\n",
       "    }\n",
       "\n",
       "    .dataframe tbody tr th {\n",
       "        vertical-align: top;\n",
       "    }\n",
       "\n",
       "    .dataframe thead th {\n",
       "        text-align: right;\n",
       "    }\n",
       "</style>\n",
       "<table border=\"1\" class=\"dataframe\">\n",
       "  <thead>\n",
       "    <tr style=\"text-align: right;\">\n",
       "      <th></th>\n",
       "      <th>author_id</th>\n",
       "      <th>text</th>\n",
       "      <th>public_metrics</th>\n",
       "      <th>id</th>\n",
       "      <th>created_at</th>\n",
       "      <th>in_reply_to_user_id</th>\n",
       "      <th>source</th>\n",
       "      <th>conversation_id</th>\n",
       "      <th>lang</th>\n",
       "      <th>referenced_tweets</th>\n",
       "      <th>edit_history_tweet_ids</th>\n",
       "      <th>reply_settings</th>\n",
       "    </tr>\n",
       "  </thead>\n",
       "  <tbody>\n",
       "    <tr>\n",
       "      <th>1</th>\n",
       "      <td>1321217184459272193</td>\n",
       "      <td>Celebrating🌍Africa’s food and farmers | Joan B...</td>\n",
       "      <td>{'retweet_count': 2, 'reply_count': 0, 'like_c...</td>\n",
       "      <td>1603760301194739712</td>\n",
       "      <td>2022-12-16T14:33:46.000Z</td>\n",
       "      <td>NaN</td>\n",
       "      <td>Twitter Web App</td>\n",
       "      <td>1603760301194739712</td>\n",
       "      <td>en</td>\n",
       "      <td>NaN</td>\n",
       "      <td>[1603760301194739712]</td>\n",
       "      <td>everyone</td>\n",
       "    </tr>\n",
       "  </tbody>\n",
       "</table>\n",
       "</div>"
      ],
      "text/plain": [
       "             author_id                                               text  \\\n",
       "1  1321217184459272193  Celebrating🌍Africa’s food and farmers | Joan B...   \n",
       "\n",
       "                                      public_metrics                   id  \\\n",
       "1  {'retweet_count': 2, 'reply_count': 0, 'like_c...  1603760301194739712   \n",
       "\n",
       "                 created_at in_reply_to_user_id           source  \\\n",
       "1  2022-12-16T14:33:46.000Z                 NaN  Twitter Web App   \n",
       "\n",
       "       conversation_id lang referenced_tweets edit_history_tweet_ids  \\\n",
       "1  1603760301194739712   en               NaN  [1603760301194739712]   \n",
       "\n",
       "  reply_settings  \n",
       "1       everyone  "
      ]
     },
     "execution_count": 5,
     "metadata": {},
     "output_type": "execute_result"
    }
   ],
   "source": [
    "tweets = get_tweets(query_params,'tweets')\n",
    "tweets.sample()"
   ]
  },
  {
   "cell_type": "markdown",
   "id": "a4aeddaa-cefe-4e2e-8de2-2da07673ba09",
   "metadata": {},
   "source": [
    "# Clean Your Text Data"
   ]
  },
  {
   "cell_type": "code",
   "execution_count": 6,
   "id": "50d86504-3bc1-443b-8827-e0f0e5e3291e",
   "metadata": {},
   "outputs": [
    {
     "name": "stderr",
     "output_type": "stream",
     "text": [
      "[nltk_data] Downloading package stopwords to\n",
      "[nltk_data]     /Users/gustavo/nltk_data...\n",
      "[nltk_data]   Package stopwords is already up-to-date!\n"
     ]
    }
   ],
   "source": [
    "import nltk\n",
    "from nltk.corpus import stopwords\n",
    "nltk.download('stopwords')\n",
    "\n",
    "import string\n",
    "from nltk.stem import PorterStemmer"
   ]
  },
  {
   "cell_type": "markdown",
   "id": "dead89be-b008-457a-b756-743f9679d0a6",
   "metadata": {},
   "source": [
    "## Worlds extractions"
   ]
  },
  {
   "cell_type": "code",
   "execution_count": 7,
   "id": "e77d4845-61f5-473f-8c7d-10007e17c096",
   "metadata": {},
   "outputs": [],
   "source": [
    "\n",
    "# keyword extraction from tweets\n",
    "def links_list(x):\n",
    "    list_of_links = []\n",
    "    words = x.split(' ')\n",
    "    for word in words:\n",
    "        if re.search('http', word):\n",
    "            list_of_links.append(re.split(\"\\W+\",word.lower()))\n",
    "    if len(list_of_links) > 0:\n",
    "        list_of_lists.append(list_of_links[0])\n",
    "    \n",
    "# keyword extraction from tweets\n",
    "def keywords_list(x):\n",
    "    list_of_keywords = []\n",
    "    words = x.split()\n",
    "    for word in words:\n",
    "        if word.startswith('#'):\n",
    "            list_of_keywords.append(word)\n",
    "    if len(list_of_keywords) > 0:\n",
    "        list_of_lists.append(list_of_keywords)\n",
    "\n",
    "    \n",
    "# username extraction from tweets\n",
    "def usernames_list(x):\n",
    "    list_of_usernames = []\n",
    "    words = x.split()\n",
    "    for word in words:\n",
    "        if word.startswith('@'):\n",
    "            list_of_usernames.append(word.lower().replace('@',''))\n",
    "    if len(list_of_usernames) > 0:\n",
    "        list_of_lists.append(list_of_usernames)\n",
    "        \n",
    "# keyword extraction from tweets\n",
    "def get_keywords(x):\n",
    "    list_of_keywords = []\n",
    "    words = x.split()\n",
    "    for word in words:\n",
    "        if word.startswith('#'):\n",
    "            list_of_keywords.append(word)\n",
    "    return list_of_keywords\n"
   ]
  },
  {
   "cell_type": "code",
   "execution_count": 8,
   "id": "b8124cef-845e-4644-a0de-32f69d6be4dd",
   "metadata": {},
   "outputs": [],
   "source": [
    "list_of_lists = []\n",
    "\n",
    "#tweets['text'].apply( lambda tweet : keywords_list(tweet) )\n",
    "tweets['text'].apply( lambda tweet : links_list(tweet) )\n",
    "tweets['text'].apply( lambda tweet : usernames_list(tweet) )\n",
    "\n",
    "rem_list = [item for sublist in list_of_lists for item in sublist]\n",
    "\n",
    "tweets['text_c'] = tweets['text'].apply( lambda tweet : ' '.join([word for word in re.split(\"\\W+\",tweet) if word.lower() not in rem_list]))"
   ]
  },
  {
   "cell_type": "code",
   "execution_count": 9,
   "id": "02cf3a80-7754-49f6-ad1e-abc74bd2a5af",
   "metadata": {},
   "outputs": [],
   "source": [
    "tweets['keywords'] = tweets['text'].apply( lambda tweet : get_keywords(tweet) )"
   ]
  },
  {
   "cell_type": "code",
   "execution_count": 10,
   "id": "3aacee4f-7872-4d82-9c7d-e26b40459c3f",
   "metadata": {},
   "outputs": [
    {
     "name": "stdout",
     "output_type": "stream",
     "text": [
      "Celebrating🌍Africa’s food and farmers | Joan Baxter 🍁🎤📻✍️📰📚🇨🇦 @joan_baxter\n",
      "https://t.co/Kno3bOkfKK @Comhlamh @farmersjournal @AgriAware @MacranaFeirme @IrelandDSA @teagasc @Irish_Aid @IrishSchSusty @TCBotanicGarden @NBGGlasnevin @agriculture_ie @ecowas_agric @BiaAmachAnseo \n",
      "\n",
      "Celebrating Africa s food and farmers Joan Baxter\n"
     ]
    }
   ],
   "source": [
    "n = 1\n",
    "print(tweets['text'][n], '\\n')\n",
    "print(tweets['text_c'][n])"
   ]
  },
  {
   "cell_type": "markdown",
   "id": "05495ec4-c735-4de4-ac3c-97ec5336f5aa",
   "metadata": {
    "tags": []
   },
   "source": [
    "## PoterStemmer"
   ]
  },
  {
   "cell_type": "code",
   "execution_count": 11,
   "id": "3d017ded-762a-4d2e-83a1-5c77ddd7a2c1",
   "metadata": {},
   "outputs": [],
   "source": [
    "# Store the stopwords into the object named as \"stop_words\"\n",
    "stop_words = stopwords.words('english')\n",
    "\n",
    "# Store the string.punctuation into an object punct\n",
    "punct = string.punctuation\n",
    "\n",
    "# Initialise an object using a method PorterStemmer\n",
    "stemmer = PorterStemmer()"
   ]
  },
  {
   "cell_type": "code",
   "execution_count": 12,
   "id": "22f436cc-944d-421b-9e5f-b0d8b9db2720",
   "metadata": {},
   "outputs": [],
   "source": [
    "import re\n",
    "\n",
    "# Store the column of the dataframe named as \"text\"\n",
    "X = tweets['text_c']\n",
    "\n",
    "cleaned_data=[]\n",
    "\n",
    "# For loop from first value to length(X), ^a-zA-Z means include small and capital case letters\n",
    "\n",
    "for i in range(len(X)):\n",
    "    tweet = re.sub('[^a-zA-Z]', ' ', X.iloc[i])\n",
    "    tweet = tweet.lower().split()\n",
    "    tweet = [stemmer.stem(word) for word in tweet if (word not in stop_words) and (word not in punct)]\n",
    "    tweet = ' '.join(tweet)\n",
    "    tweets.loc[ i ,'text_ps'] = tweet"
   ]
  },
  {
   "cell_type": "code",
   "execution_count": 13,
   "id": "1bf02984-820b-4a28-8f1a-dd801d25c847",
   "metadata": {},
   "outputs": [
    {
     "name": "stdout",
     "output_type": "stream",
     "text": [
      "@MarkBehan4 @McConalogue @GeraskoLarysa @FAO @agriculture_ie @FAODG @fiannafailparty @OgraFiannaFail OK this I agree with, their duty firstly should be to irish farmers, plenty of them struggling. \n",
      "\n",
      "ok agre duti firstli irish farmer plenti struggl \n",
      "\n"
     ]
    }
   ],
   "source": [
    "print(tweets['text'][0], '\\n')\n",
    "print(tweets['text_ps'][0], '\\n')"
   ]
  },
  {
   "cell_type": "markdown",
   "id": "1c75f0ff-efcc-4bc1-8f83-5cfe08074244",
   "metadata": {},
   "source": [
    "# Sentiment Analyzes"
   ]
  },
  {
   "cell_type": "markdown",
   "id": "71c6b817-f690-4816-9bb7-eca288a23508",
   "metadata": {},
   "source": [
    "TextBlob is a Python (2 and 3) library for processing textual data. It provides a simple API for diving into common natural language processing (NLP) tasks such as part-of-speech tagging, noun phrase extraction, sentiment analysis, classification, translation, and more. [link](https://textblob.readthedocs.io/en/dev/index.html)"
   ]
  },
  {
   "cell_type": "code",
   "execution_count": 14,
   "id": "be6f0424-270d-4d33-a4d2-a561f9dc4d06",
   "metadata": {},
   "outputs": [
    {
     "data": {
      "text/html": [
       "<div>\n",
       "<style scoped>\n",
       "    .dataframe tbody tr th:only-of-type {\n",
       "        vertical-align: middle;\n",
       "    }\n",
       "\n",
       "    .dataframe tbody tr th {\n",
       "        vertical-align: top;\n",
       "    }\n",
       "\n",
       "    .dataframe thead th {\n",
       "        text-align: right;\n",
       "    }\n",
       "</style>\n",
       "<table border=\"1\" class=\"dataframe\">\n",
       "  <thead>\n",
       "    <tr style=\"text-align: right;\">\n",
       "      <th></th>\n",
       "      <th>author_id</th>\n",
       "      <th>text</th>\n",
       "      <th>public_metrics</th>\n",
       "      <th>id</th>\n",
       "      <th>created_at</th>\n",
       "      <th>in_reply_to_user_id</th>\n",
       "      <th>source</th>\n",
       "      <th>conversation_id</th>\n",
       "      <th>lang</th>\n",
       "      <th>referenced_tweets</th>\n",
       "      <th>edit_history_tweet_ids</th>\n",
       "      <th>reply_settings</th>\n",
       "      <th>text_c</th>\n",
       "      <th>keywords</th>\n",
       "      <th>text_ps</th>\n",
       "      <th>TextBlob</th>\n",
       "      <th>Vader</th>\n",
       "    </tr>\n",
       "  </thead>\n",
       "  <tbody>\n",
       "    <tr>\n",
       "      <th>5</th>\n",
       "      <td>8973142</td>\n",
       "      <td>After a turbulent year of input prices and out...</td>\n",
       "      <td>{'retweet_count': 0, 'reply_count': 0, 'like_c...</td>\n",
       "      <td>1603391104132464642</td>\n",
       "      <td>2022-12-15T14:06:43.000Z</td>\n",
       "      <td>NaN</td>\n",
       "      <td>Twitter Web App</td>\n",
       "      <td>1603391104132464642</td>\n",
       "      <td>en</td>\n",
       "      <td>NaN</td>\n",
       "      <td>[1603391104132464642]</td>\n",
       "      <td>everyone</td>\n",
       "      <td>After a turbulent year of input prices and out...</td>\n",
       "      <td>[]</td>\n",
       "      <td>turbul year input price output return dairi fa...</td>\n",
       "      <td>0.0</td>\n",
       "      <td>0.5859</td>\n",
       "    </tr>\n",
       "    <tr>\n",
       "      <th>7</th>\n",
       "      <td>194513294</td>\n",
       "      <td>Interesting times ahead for the Irish #organic...</td>\n",
       "      <td>{'retweet_count': 2, 'reply_count': 0, 'like_c...</td>\n",
       "      <td>1603322521692307456</td>\n",
       "      <td>2022-12-15T09:34:12.000Z</td>\n",
       "      <td>NaN</td>\n",
       "      <td>Twitter Web App</td>\n",
       "      <td>1603322521692307456</td>\n",
       "      <td>en</td>\n",
       "      <td>NaN</td>\n",
       "      <td>[1603322521692307456]</td>\n",
       "      <td>everyone</td>\n",
       "      <td>Interesting times ahead for the Irish organic ...</td>\n",
       "      <td>[#organic, #organicfarming]</td>\n",
       "      <td>interest time ahead irish organ sector organic...</td>\n",
       "      <td>0.0</td>\n",
       "      <td>0.4588</td>\n",
       "    </tr>\n",
       "  </tbody>\n",
       "</table>\n",
       "</div>"
      ],
      "text/plain": [
       "   author_id                                               text  \\\n",
       "5    8973142  After a turbulent year of input prices and out...   \n",
       "7  194513294  Interesting times ahead for the Irish #organic...   \n",
       "\n",
       "                                      public_metrics                   id  \\\n",
       "5  {'retweet_count': 0, 'reply_count': 0, 'like_c...  1603391104132464642   \n",
       "7  {'retweet_count': 2, 'reply_count': 0, 'like_c...  1603322521692307456   \n",
       "\n",
       "                 created_at in_reply_to_user_id           source  \\\n",
       "5  2022-12-15T14:06:43.000Z                 NaN  Twitter Web App   \n",
       "7  2022-12-15T09:34:12.000Z                 NaN  Twitter Web App   \n",
       "\n",
       "       conversation_id lang referenced_tweets edit_history_tweet_ids  \\\n",
       "5  1603391104132464642   en               NaN  [1603391104132464642]   \n",
       "7  1603322521692307456   en               NaN  [1603322521692307456]   \n",
       "\n",
       "  reply_settings                                             text_c  \\\n",
       "5       everyone  After a turbulent year of input prices and out...   \n",
       "7       everyone  Interesting times ahead for the Irish organic ...   \n",
       "\n",
       "                      keywords  \\\n",
       "5                           []   \n",
       "7  [#organic, #organicfarming]   \n",
       "\n",
       "                                             text_ps  TextBlob   Vader  \n",
       "5  turbul year input price output return dairi fa...       0.0  0.5859  \n",
       "7  interest time ahead irish organ sector organic...       0.0  0.4588  "
      ]
     },
     "execution_count": 14,
     "metadata": {},
     "output_type": "execute_result"
    }
   ],
   "source": [
    "for i in tweets.index:\n",
    "    text = tweets.loc[i,'text_ps']\n",
    "    tweets.loc[i, 'TextBlob'] = TextBlob(text).sentiment.polarity\n",
    "    #print(TextBlob(text).sentiment.polarity)\n",
    "    tweets.loc[i, 'Vader'] = SentimentIntensityAnalyzer().polarity_scores(text)['compound']\n",
    "    #print(SentimentIntensityAnalyzer().polarity_scores(text)['compound'], '\\n')\n",
    "    \n",
    "tweets.sample(2)"
   ]
  },
  {
   "cell_type": "code",
   "execution_count": 15,
   "id": "20692767-6953-4c5a-afc3-c572133f1b22",
   "metadata": {},
   "outputs": [],
   "source": [
    "def get_polarity(df, col):\n",
    "\n",
    "    polarity = 0\n",
    "    neutral = 0\n",
    "    wpositive = 0\n",
    "    positive = 0\n",
    "    spositive = 0\n",
    "    wnegative = 0\n",
    "    negative = 0\n",
    "    snegative = 0\n",
    "     \n",
    "    for t in df.index:\n",
    "        \n",
    "        v = df.loc[t, col]\n",
    "        polarity += v  # adding up polarities to find the average later\n",
    "\n",
    "        if (v == 0):  # adding reaction of how people are reacting to find average later\n",
    "            neutral += 1\n",
    "            desc = 'neutral'\n",
    "        elif (v > 0 and v <= 0.3):\n",
    "            wpositive += 1\n",
    "            desc ='weak_positive'\n",
    "        elif (v > 0.3 and v <= 0.6):\n",
    "            positive += 1\n",
    "            desc = 'positive'\n",
    "        elif (v > 0.6 and v <= 1):\n",
    "            spositive += 1\n",
    "            desc = 'strong_positive'\n",
    "        elif (v > -0.3 and v <= 0):\n",
    "            wnegative += 1\n",
    "            desc = 'weak_negative'\n",
    "        elif (v > -0.6 and v <= -0.3):\n",
    "            negative += 1\n",
    "            desc = 'negative'\n",
    "        elif (v > -1 and v <= -0.6):\n",
    "            snegative += 1\n",
    "            desc = 'strong_negative'\n",
    "         \n",
    "        df.loc[t, f'{col}_desc'] = desc\n",
    "        \n",
    "\n",
    "    return {'polarity_sum':polarity,\n",
    "            'polarity_mean':(polarity / len(df)),\n",
    "            'neutral':neutral,\n",
    "            'strong_positive':spositive,\n",
    "            'positive':positive,\n",
    "            'weak_positive':wpositive,\n",
    "            'weak_negative':wnegative,\n",
    "            'negative':negative,\n",
    "            'strong_negative':snegative}\n",
    "\n",
    "\n"
   ]
  },
  {
   "cell_type": "code",
   "execution_count": 16,
   "id": "90a9864e-2155-4fc0-9154-82d2544a2da9",
   "metadata": {},
   "outputs": [
    {
     "data": {
      "text/plain": [
       "{'polarity_sum': 0.9783333333333334,\n",
       " 'polarity_mean': 0.09783333333333334,\n",
       " 'neutral': 5,\n",
       " 'strong_positive': 0,\n",
       " 'positive': 1,\n",
       " 'weak_positive': 4,\n",
       " 'weak_negative': 0,\n",
       " 'negative': 0,\n",
       " 'strong_negative': 0}"
      ]
     },
     "execution_count": 16,
     "metadata": {},
     "output_type": "execute_result"
    }
   ],
   "source": [
    "get_polarity(tweets,'TextBlob')"
   ]
  },
  {
   "cell_type": "code",
   "execution_count": 17,
   "id": "58ccdc01-f6c2-4a3f-9e1a-ea8688effb1b",
   "metadata": {},
   "outputs": [
    {
     "data": {
      "text/plain": [
       "{'polarity_sum': 3.9924999999999997,\n",
       " 'polarity_mean': 0.39925,\n",
       " 'neutral': 1,\n",
       " 'strong_positive': 2,\n",
       " 'positive': 5,\n",
       " 'weak_positive': 1,\n",
       " 'weak_negative': 1,\n",
       " 'negative': 0,\n",
       " 'strong_negative': 0}"
      ]
     },
     "execution_count": 17,
     "metadata": {},
     "output_type": "execute_result"
    }
   ],
   "source": [
    "get_polarity(tweets,'Vader')"
   ]
  },
  {
   "cell_type": "code",
   "execution_count": 18,
   "id": "db5c2e3c-a707-450f-bb85-c7327834ad00",
   "metadata": {},
   "outputs": [
    {
     "data": {
      "text/html": [
       "<div>\n",
       "<style scoped>\n",
       "    .dataframe tbody tr th:only-of-type {\n",
       "        vertical-align: middle;\n",
       "    }\n",
       "\n",
       "    .dataframe tbody tr th {\n",
       "        vertical-align: top;\n",
       "    }\n",
       "\n",
       "    .dataframe thead th {\n",
       "        text-align: right;\n",
       "    }\n",
       "</style>\n",
       "<table border=\"1\" class=\"dataframe\">\n",
       "  <thead>\n",
       "    <tr style=\"text-align: right;\">\n",
       "      <th></th>\n",
       "      <th>author_id</th>\n",
       "      <th>text</th>\n",
       "      <th>public_metrics</th>\n",
       "      <th>id</th>\n",
       "      <th>created_at</th>\n",
       "      <th>in_reply_to_user_id</th>\n",
       "      <th>source</th>\n",
       "      <th>conversation_id</th>\n",
       "      <th>lang</th>\n",
       "      <th>referenced_tweets</th>\n",
       "      <th>edit_history_tweet_ids</th>\n",
       "      <th>reply_settings</th>\n",
       "      <th>text_c</th>\n",
       "      <th>keywords</th>\n",
       "      <th>text_ps</th>\n",
       "      <th>TextBlob</th>\n",
       "      <th>Vader</th>\n",
       "      <th>TextBlob_desc</th>\n",
       "      <th>Vader_desc</th>\n",
       "    </tr>\n",
       "  </thead>\n",
       "  <tbody>\n",
       "    <tr>\n",
       "      <th>6</th>\n",
       "      <td>1113016486321405952</td>\n",
       "      <td>@agriculture_ie @McConalogue @UKRinIRL @Gerask...</td>\n",
       "      <td>{'retweet_count': 0, 'reply_count': 1, 'like_c...</td>\n",
       "      <td>1603354556380889089</td>\n",
       "      <td>2022-12-15T11:41:29.000Z</td>\n",
       "      <td>2589328316</td>\n",
       "      <td>Twitter Web App</td>\n",
       "      <td>1603033104960167936</td>\n",
       "      <td>en</td>\n",
       "      <td>[{'type': 'replied_to', 'id': '160303310496016...</td>\n",
       "      <td>[1603354556380889089]</td>\n",
       "      <td>everyone</td>\n",
       "      <td>Great any chance you might do something for ir...</td>\n",
       "      <td>[]</td>\n",
       "      <td>great chanc might someth irish farmer see cont...</td>\n",
       "      <td>0.4</td>\n",
       "      <td>0.6249</td>\n",
       "      <td>positive</td>\n",
       "      <td>strong_positive</td>\n",
       "    </tr>\n",
       "  </tbody>\n",
       "</table>\n",
       "</div>"
      ],
      "text/plain": [
       "             author_id                                               text  \\\n",
       "6  1113016486321405952  @agriculture_ie @McConalogue @UKRinIRL @Gerask...   \n",
       "\n",
       "                                      public_metrics                   id  \\\n",
       "6  {'retweet_count': 0, 'reply_count': 1, 'like_c...  1603354556380889089   \n",
       "\n",
       "                 created_at in_reply_to_user_id           source  \\\n",
       "6  2022-12-15T11:41:29.000Z          2589328316  Twitter Web App   \n",
       "\n",
       "       conversation_id lang  \\\n",
       "6  1603033104960167936   en   \n",
       "\n",
       "                                   referenced_tweets edit_history_tweet_ids  \\\n",
       "6  [{'type': 'replied_to', 'id': '160303310496016...  [1603354556380889089]   \n",
       "\n",
       "  reply_settings                                             text_c keywords  \\\n",
       "6       everyone  Great any chance you might do something for ir...       []   \n",
       "\n",
       "                                             text_ps  TextBlob   Vader  \\\n",
       "6  great chanc might someth irish farmer see cont...       0.4  0.6249   \n",
       "\n",
       "  TextBlob_desc       Vader_desc  \n",
       "6      positive  strong_positive  "
      ]
     },
     "execution_count": 18,
     "metadata": {},
     "output_type": "execute_result"
    }
   ],
   "source": [
    "tweets.sample()"
   ]
  },
  {
   "cell_type": "code",
   "execution_count": 19,
   "id": "257a80b8-1d52-4e9e-9094-1c9dfe9114c0",
   "metadata": {},
   "outputs": [
    {
     "name": "stdout",
     "output_type": "stream",
     "text": [
      "Text Original: Diarmuid is passionate about the success of Irish #agriculture. He brings a wealth of knowledge &amp; experience to his interactions with #farmers &amp; other #agricultural stakeholders. https://t.co/mP9CC4LXQB \n",
      " -------------------------------------------------------------------------------------------\n",
      "Text Clear: Diarmuid is passionate about the success of Irish agriculture He brings a wealth of knowledge amp experience to his interactions with farmers amp other agricultural stakeholders \n",
      " -------------------------------------------------------------------------------------------\n",
      "Text Steammed: diarmuid passion success irish agricultur bring wealth knowledg amp experi interact farmer amp agricultur stakehold \n",
      " -------------------------------------------------------------------------------------------\n",
      "KeyWords: ['#agriculture.', '#farmers', '#agricultural'] \n",
      " -------------------------------------------------------------------------------------------\n",
      "TextBlob:  0.15 weak_positive\n",
      "Vader:  0.872 strong_positive\n"
     ]
    }
   ],
   "source": [
    "n = 9\n",
    "print('Text Original:', tweets.loc[n, 'text'], '\\n',\n",
    "     '-------------------------------------------------------------------------------------------')\n",
    "print('Text Clear:', tweets.loc[n, 'text_c'], '\\n',\n",
    "     '-------------------------------------------------------------------------------------------')\n",
    "\n",
    "print('Text Steammed:', tweets.loc[n, 'text_ps'], '\\n',\n",
    "     '-------------------------------------------------------------------------------------------')\n",
    "\n",
    "print('KeyWords:', tweets.loc[n, 'keywords'], '\\n',\n",
    "     '-------------------------------------------------------------------------------------------')\n",
    "\n",
    "print('TextBlob: ',tweets.loc[n, 'TextBlob'], tweets.loc[n, 'TextBlob_desc'])\n",
    "print('Vader: ', tweets.loc[n, 'Vader'], tweets.loc[n, 'Vader_desc'])"
   ]
  },
  {
   "cell_type": "code",
   "execution_count": 20,
   "id": "e8add63f-2230-4811-941a-d4fd1e8ea7ee",
   "metadata": {},
   "outputs": [
    {
     "data": {
      "text/html": [
       "<div>\n",
       "<style scoped>\n",
       "    .dataframe tbody tr th:only-of-type {\n",
       "        vertical-align: middle;\n",
       "    }\n",
       "\n",
       "    .dataframe tbody tr th {\n",
       "        vertical-align: top;\n",
       "    }\n",
       "\n",
       "    .dataframe thead th {\n",
       "        text-align: right;\n",
       "    }\n",
       "</style>\n",
       "<table border=\"1\" class=\"dataframe\">\n",
       "  <thead>\n",
       "    <tr style=\"text-align: right;\">\n",
       "      <th></th>\n",
       "      <th>keywords</th>\n",
       "      <th>text_ps</th>\n",
       "      <th>TextBlob</th>\n",
       "      <th>Vader</th>\n",
       "      <th>TextBlob_desc</th>\n",
       "      <th>Vader_desc</th>\n",
       "    </tr>\n",
       "  </thead>\n",
       "  <tbody>\n",
       "    <tr>\n",
       "      <th>0</th>\n",
       "      <td>[]</td>\n",
       "      <td>ok agre duti firstli irish farmer plenti struggl</td>\n",
       "      <td>0.250000</td>\n",
       "      <td>0.2960</td>\n",
       "      <td>weak_positive</td>\n",
       "      <td>weak_positive</td>\n",
       "    </tr>\n",
       "    <tr>\n",
       "      <th>1</th>\n",
       "      <td>[]</td>\n",
       "      <td>celebr africa food farmer joan baxter</td>\n",
       "      <td>0.000000</td>\n",
       "      <td>0.0000</td>\n",
       "      <td>neutral</td>\n",
       "      <td>neutral</td>\n",
       "    </tr>\n",
       "    <tr>\n",
       "      <th>2</th>\n",
       "      <td>[]</td>\n",
       "      <td>irish farmer want cull herd put busi ukrainian...</td>\n",
       "      <td>0.000000</td>\n",
       "      <td>0.4588</td>\n",
       "      <td>neutral</td>\n",
       "      <td>positive</td>\n",
       "    </tr>\n",
       "    <tr>\n",
       "      <th>3</th>\n",
       "      <td>[]</td>\n",
       "      <td>screw irish farmer</td>\n",
       "      <td>0.000000</td>\n",
       "      <td>-0.1027</td>\n",
       "      <td>neutral</td>\n",
       "      <td>weak_negative</td>\n",
       "    </tr>\n",
       "    <tr>\n",
       "      <th>4</th>\n",
       "      <td>[]</td>\n",
       "      <td>farmer accept chang need agricultur alway evol...</td>\n",
       "      <td>0.053333</td>\n",
       "      <td>0.4588</td>\n",
       "      <td>weak_positive</td>\n",
       "      <td>positive</td>\n",
       "    </tr>\n",
       "    <tr>\n",
       "      <th>5</th>\n",
       "      <td>[]</td>\n",
       "      <td>turbul year input price output return dairi fa...</td>\n",
       "      <td>0.000000</td>\n",
       "      <td>0.5859</td>\n",
       "      <td>neutral</td>\n",
       "      <td>positive</td>\n",
       "    </tr>\n",
       "    <tr>\n",
       "      <th>6</th>\n",
       "      <td>[]</td>\n",
       "      <td>great chanc might someth irish farmer see cont...</td>\n",
       "      <td>0.400000</td>\n",
       "      <td>0.6249</td>\n",
       "      <td>positive</td>\n",
       "      <td>strong_positive</td>\n",
       "    </tr>\n",
       "    <tr>\n",
       "      <th>7</th>\n",
       "      <td>[#organic, #organicfarming]</td>\n",
       "      <td>interest time ahead irish organ sector organic...</td>\n",
       "      <td>0.000000</td>\n",
       "      <td>0.4588</td>\n",
       "      <td>neutral</td>\n",
       "      <td>positive</td>\n",
       "    </tr>\n",
       "    <tr>\n",
       "      <th>8</th>\n",
       "      <td>[]</td>\n",
       "      <td>irish farmer journal northern correspond one j...</td>\n",
       "      <td>0.125000</td>\n",
       "      <td>0.3400</td>\n",
       "      <td>weak_positive</td>\n",
       "      <td>positive</td>\n",
       "    </tr>\n",
       "    <tr>\n",
       "      <th>9</th>\n",
       "      <td>[#agriculture., #farmers, #agricultural]</td>\n",
       "      <td>diarmuid passion success irish agricultur brin...</td>\n",
       "      <td>0.150000</td>\n",
       "      <td>0.8720</td>\n",
       "      <td>weak_positive</td>\n",
       "      <td>strong_positive</td>\n",
       "    </tr>\n",
       "  </tbody>\n",
       "</table>\n",
       "</div>"
      ],
      "text/plain": [
       "                                   keywords  \\\n",
       "0                                        []   \n",
       "1                                        []   \n",
       "2                                        []   \n",
       "3                                        []   \n",
       "4                                        []   \n",
       "5                                        []   \n",
       "6                                        []   \n",
       "7               [#organic, #organicfarming]   \n",
       "8                                        []   \n",
       "9  [#agriculture., #farmers, #agricultural]   \n",
       "\n",
       "                                             text_ps  TextBlob   Vader  \\\n",
       "0   ok agre duti firstli irish farmer plenti struggl  0.250000  0.2960   \n",
       "1              celebr africa food farmer joan baxter  0.000000  0.0000   \n",
       "2  irish farmer want cull herd put busi ukrainian...  0.000000  0.4588   \n",
       "3                                 screw irish farmer  0.000000 -0.1027   \n",
       "4  farmer accept chang need agricultur alway evol...  0.053333  0.4588   \n",
       "5  turbul year input price output return dairi fa...  0.000000  0.5859   \n",
       "6  great chanc might someth irish farmer see cont...  0.400000  0.6249   \n",
       "7  interest time ahead irish organ sector organic...  0.000000  0.4588   \n",
       "8  irish farmer journal northern correspond one j...  0.125000  0.3400   \n",
       "9  diarmuid passion success irish agricultur brin...  0.150000  0.8720   \n",
       "\n",
       "   TextBlob_desc       Vader_desc  \n",
       "0  weak_positive    weak_positive  \n",
       "1        neutral          neutral  \n",
       "2        neutral         positive  \n",
       "3        neutral    weak_negative  \n",
       "4  weak_positive         positive  \n",
       "5        neutral         positive  \n",
       "6       positive  strong_positive  \n",
       "7        neutral         positive  \n",
       "8  weak_positive         positive  \n",
       "9  weak_positive  strong_positive  "
      ]
     },
     "execution_count": 20,
     "metadata": {},
     "output_type": "execute_result"
    }
   ],
   "source": [
    "tweets.iloc[:, -6:]"
   ]
  },
  {
   "cell_type": "markdown",
   "id": "2f1e7c79-0879-49b5-89f8-22752f114ae9",
   "metadata": {},
   "source": [
    "## Irony and Sarcasm\n",
    "\n",
    "Minimizing the impact of irony and sarcasm through hashing tags"
   ]
  },
  {
   "cell_type": "code",
   "execution_count": null,
   "id": "10a9e565-0d52-4fb1-b4ac-499c3c6e9ff0",
   "metadata": {},
   "outputs": [],
   "source": [
    "word_bag =[\"#sarcasm\",\n",
    "\"#sarcastic\",\n",
    "\"#not\",\n",
    "\"#notsarcasm\",\n",
    "\"#notsarcastic\",\n",
    "\"#irony\",\n",
    "\"#ironic\",\n",
    "\"#joke\",\n",
    "\"#humour\",\n",
    "\"#funny\"]"
   ]
  },
  {
   "cell_type": "code",
   "execution_count": 24,
   "id": "8c9152c4-af1d-4aed-8576-74db2ca49745",
   "metadata": {},
   "outputs": [
    {
     "ename": "FileNotFoundError",
     "evalue": "[Errno 2] No such file or directory: 'sarcasm_headlines.json'",
     "output_type": "error",
     "traceback": [
      "\u001b[0;31m---------------------------------------------------------------------------\u001b[0m",
      "\u001b[0;31mFileNotFoundError\u001b[0m                         Traceback (most recent call last)",
      "\u001b[0;32m/var/folders/3l/89_chlsj4jsbhptfdm3q643w0000gn/T/ipykernel_20576/3243661983.py\u001b[0m in \u001b[0;36m<module>\u001b[0;34m\u001b[0m\n\u001b[1;32m      1\u001b[0m \u001b[0;32mimport\u001b[0m \u001b[0mjson\u001b[0m\u001b[0;34m\u001b[0m\u001b[0;34m\u001b[0m\u001b[0m\n\u001b[1;32m      2\u001b[0m \u001b[0;34m\u001b[0m\u001b[0m\n\u001b[0;32m----> 3\u001b[0;31m \u001b[0;32mwith\u001b[0m \u001b[0mopen\u001b[0m\u001b[0;34m(\u001b[0m\u001b[0;34m'sarcasm_headlines.json'\u001b[0m\u001b[0;34m,\u001b[0m \u001b[0;34m'r'\u001b[0m\u001b[0;34m)\u001b[0m \u001b[0;32mas\u001b[0m \u001b[0mf\u001b[0m\u001b[0;34m:\u001b[0m\u001b[0;34m\u001b[0m\u001b[0;34m\u001b[0m\u001b[0m\n\u001b[0m\u001b[1;32m      4\u001b[0m   \u001b[0mnews\u001b[0m \u001b[0;34m=\u001b[0m \u001b[0mjson\u001b[0m\u001b[0;34m.\u001b[0m\u001b[0mload\u001b[0m\u001b[0;34m(\u001b[0m\u001b[0mf\u001b[0m\u001b[0;34m)\u001b[0m\u001b[0;34m\u001b[0m\u001b[0;34m\u001b[0m\u001b[0m\n\u001b[1;32m      5\u001b[0m \u001b[0;34m\u001b[0m\u001b[0m\n",
      "\u001b[0;31mFileNotFoundError\u001b[0m: [Errno 2] No such file or directory: 'sarcasm_headlines.json'"
     ]
    }
   ],
   "source": [
    "import json\n",
    "\n",
    "with open('sarcasm_headlines.json', 'r') as f:\n",
    "  news = json.load(f)\n",
    "  \n",
    "news\n",
    "\n",
    "#news = pd.read_json(\"Sarcasm_Headlines_Dataset_v2.json\", lines=True, orient = \"column\")\n"
   ]
  },
  {
   "cell_type": "code",
   "execution_count": null,
   "id": "9676ff51-615a-4c78-859e-ad6123886ba9",
   "metadata": {},
   "outputs": [],
   "source": []
  }
 ],
 "metadata": {
  "kernelspec": {
   "display_name": "Python 3 (ipykernel)",
   "language": "python",
   "name": "python3"
  },
  "language_info": {
   "codemirror_mode": {
    "name": "ipython",
    "version": 3
   },
   "file_extension": ".py",
   "mimetype": "text/x-python",
   "name": "python",
   "nbconvert_exporter": "python",
   "pygments_lexer": "ipython3",
   "version": "3.9.13"
  }
 },
 "nbformat": 4,
 "nbformat_minor": 5
}
