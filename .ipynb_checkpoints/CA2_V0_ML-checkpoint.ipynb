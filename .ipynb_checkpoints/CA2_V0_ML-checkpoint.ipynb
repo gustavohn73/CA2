{
 "cells": [
  {
   "cell_type": "markdown",
   "id": "74a2b37d-661a-4bec-84fc-6803d3f4519c",
   "metadata": {
    "slideshow": {
     "slide_type": "-"
    }
   },
   "source": [
    "# Settings"
   ]
  },
  {
   "cell_type": "raw",
   "id": "e79a4e90-9825-447a-ae88-c93f9505717c",
   "metadata": {},
   "source": [
    "http://localhost:8890/lab!pip install textblob\n",
    "!pip install vaderSentiment\n",
    "!pip install nltk\n",
    "!pip install opendatasets"
   ]
  },
  {
   "cell_type": "markdown",
   "id": "2ab86713-fd1a-4530-bbf1-218b9c04a44b",
   "metadata": {},
   "source": [
    "## Imports"
   ]
  },
  {
   "cell_type": "code",
   "execution_count": 1,
   "id": "1089dd83-4193-43ae-ad4c-fda87e659897",
   "metadata": {},
   "outputs": [],
   "source": [
    "import sys,tweepy,csv,re, requests, json\n",
    "import matplotlib.pyplot as plt\n",
    "from dotenv import dotenv_values\n",
    "import pandas as pd\n",
    "import numpy as np\n",
    "import os.path, time, re\n",
    "\n",
    "\n",
    "from vaderSentiment.vaderSentiment import SentimentIntensityAnalyzer\n",
    "from textblob import TextBlob"
   ]
  },
  {
   "cell_type": "code",
   "execution_count": 2,
   "id": "50d86504-3bc1-443b-8827-e0f0e5e3291e",
   "metadata": {},
   "outputs": [
    {
     "name": "stderr",
     "output_type": "stream",
     "text": [
      "[nltk_data] Downloading package stopwords to\n",
      "[nltk_data]     /Users/gustavo/nltk_data...\n",
      "[nltk_data]   Package stopwords is already up-to-date!\n"
     ]
    }
   ],
   "source": [
    "import nltk\n",
    "from nltk.corpus import stopwords\n",
    "nltk.download('stopwords')\n",
    "\n",
    "import string\n",
    "from nltk.stem import PorterStemmer"
   ]
  },
  {
   "cell_type": "code",
   "execution_count": 3,
   "id": "b30cfb27-cb88-4c26-9801-2f4e55e9cf80",
   "metadata": {},
   "outputs": [],
   "source": [
    "import warnings\n",
    "warnings.filterwarnings('ignore') # We can suppress the warnings"
   ]
  },
  {
   "cell_type": "markdown",
   "id": "cfbf0efa-7921-4ea7-a523-9661f26befd5",
   "metadata": {},
   "source": [
    "# Getting Twitter"
   ]
  },
  {
   "cell_type": "code",
   "execution_count": 4,
   "id": "edcd622d",
   "metadata": {},
   "outputs": [],
   "source": [
    "\n",
    "def get_API():\n",
    "    #token\n",
    "    config = dotenv_values(\".env\")\n",
    "    consumer_key = config[\"API_KEY\"]\n",
    "    consumer_secret = config[\"API_KEY_SECRET\"]\n",
    "    access_token = config[\"ACCESS_TOKEN\"]\n",
    "    access_token_secret = config[\"ACCESS_TOKEN_SECRET\"]\n",
    "\n",
    "    auth = tweepy.OAuth1UserHandler(\n",
    "      consumer_key, \n",
    "      consumer_secret, \n",
    "      access_token, \n",
    "      access_token_secret\n",
    "    )\n",
    "\n",
    "    api = tweepy.API(auth) \n",
    "    \n",
    "    print('API started...')\n",
    "    \n",
    "    return api\n",
    "\n",
    "\n",
    "\n",
    "def get_tweets(query, n , p, file_name):\n",
    "    \n",
    "    tweets_dt = pd.DataFrame()\n",
    "    file_name = f'{file_name}.bz2'\n",
    " \n",
    "    if os.path.exists(file_name) == True: #First checking if database exists\n",
    "        create_dt = time.strftime(\"%d/%m/%Y %H:%M:%S\",time.strptime(time.ctime(os.path.getmtime(file_name))))\n",
    "        print(f'Reading {file_name}, created at {create_dt}')\n",
    "        tweets_dt = pd.read_csv(file_name)\n",
    "        print(f'DataFrame with {len(tweets_dt)} Tweets')\n",
    "        \n",
    "    else:\n",
    "        print(f'Getting tweets...')\n",
    "        \n",
    "        api = get_API()\n",
    "\n",
    "        extracted_pages = []\n",
    "\n",
    "        for page in tweepy.Cursor(api.search_tweets, \n",
    "                                    q=query, \n",
    "                                    lang=\"en\",\n",
    "                                    count=50).pages(5):\n",
    "            extracted_pages.append(page)\n",
    "\n",
    "\n",
    "        extracted_tweets_from_pages = []\n",
    "\n",
    "        for page in extracted_pages:\n",
    "            extracted_tweets_from_pages += page\n",
    "\n",
    "        for i in range(len(extracted_tweets_from_pages)):\n",
    "            tweet = pd.DataFrame.from_dict(extracted_tweets_from_pages[i]._json, orient=\"index\").T.reset_index(drop = True)\n",
    "            if i == 0:\n",
    "                tweets_dt = tweet.copy()\n",
    "            else:\n",
    "                tweets_dt = pd.concat([tweets_dt, tweet])\n",
    "            tweets_dt.reset_index(drop = True)\n",
    "        \n",
    "        if len(extracted_tweets_from_pages) > 0:\n",
    "            tweets_dt.to_csv(file_name, index=False,compression='bz2')\n",
    "            print(f'{len(extracted_tweets_from_pages)} Tweets found and saved')\n",
    "        else:\n",
    "            print(f'No Tweets found')\n",
    "    \n",
    "    return tweets_dt\n"
   ]
  },
  {
   "cell_type": "code",
   "execution_count": 62,
   "id": "71599aeb",
   "metadata": {},
   "outputs": [
    {
     "name": "stdout",
     "output_type": "stream",
     "text": [
      "Reading tweets_250_V6.bz2, created at 23/12/2022 12:20:15\n",
      "DataFrame with 250 Tweets\n"
     ]
    }
   ],
   "source": [
    "q = \"Agriculture (Ireland OR Europe) -RT\"\n",
    "tweets_dt = get_tweets(q, 10, 1, 'tweets_250_V6').reset_index(drop=True)"
   ]
  },
  {
   "cell_type": "code",
   "execution_count": 63,
   "id": "268b4570",
   "metadata": {},
   "outputs": [
    {
     "name": "stdout",
     "output_type": "stream",
     "text": [
      "<class 'pandas.core.frame.DataFrame'>\n",
      "RangeIndex: 250 entries, 0 to 249\n",
      "Data columns (total 29 columns):\n",
      " #   Column                     Non-Null Count  Dtype  \n",
      "---  ------                     --------------  -----  \n",
      " 0   created_at                 250 non-null    object \n",
      " 1   id                         250 non-null    int64  \n",
      " 2   id_str                     250 non-null    int64  \n",
      " 3   text                       250 non-null    object \n",
      " 4   truncated                  250 non-null    bool   \n",
      " 5   entities                   250 non-null    object \n",
      " 6   extended_entities          4 non-null      object \n",
      " 7   metadata                   250 non-null    object \n",
      " 8   source                     250 non-null    object \n",
      " 9   in_reply_to_status_id      102 non-null    float64\n",
      " 10  in_reply_to_status_id_str  102 non-null    float64\n",
      " 11  in_reply_to_user_id        105 non-null    float64\n",
      " 12  in_reply_to_user_id_str    105 non-null    float64\n",
      " 13  in_reply_to_screen_name    105 non-null    object \n",
      " 14  user                       250 non-null    object \n",
      " 15  geo                        0 non-null      float64\n",
      " 16  coordinates                0 non-null      float64\n",
      " 17  place                      9 non-null      object \n",
      " 18  contributors               0 non-null      float64\n",
      " 19  is_quote_status            250 non-null    bool   \n",
      " 20  retweet_count              250 non-null    int64  \n",
      " 21  favorite_count             250 non-null    int64  \n",
      " 22  favorited                  250 non-null    bool   \n",
      " 23  retweeted                  250 non-null    bool   \n",
      " 24  possibly_sensitive         160 non-null    object \n",
      " 25  lang                       250 non-null    object \n",
      " 26  quoted_status_id           15 non-null     float64\n",
      " 27  quoted_status_id_str       15 non-null     float64\n",
      " 28  quoted_status              15 non-null     object \n",
      "dtypes: bool(4), float64(9), int64(4), object(12)\n",
      "memory usage: 49.9+ KB\n"
     ]
    }
   ],
   "source": [
    "tweets_dt.info()"
   ]
  },
  {
   "cell_type": "code",
   "execution_count": 64,
   "id": "8785827e",
   "metadata": {},
   "outputs": [
    {
     "data": {
      "text/plain": [
       "'I wish all Agriculture, Food &amp; Drink, Tourism and Domestic Workers across Europe a peaceful and joyful holidays. https://t.co/ZWPOEP9sHy'"
      ]
     },
     "execution_count": 64,
     "metadata": {},
     "output_type": "execute_result"
    }
   ],
   "source": [
    "tweets_dt.text[0]"
   ]
  },
  {
   "cell_type": "code",
   "execution_count": 65,
   "id": "13f893aa",
   "metadata": {},
   "outputs": [
    {
     "data": {
      "text/html": [
       "<div>\n",
       "<style scoped>\n",
       "    .dataframe tbody tr th:only-of-type {\n",
       "        vertical-align: middle;\n",
       "    }\n",
       "\n",
       "    .dataframe tbody tr th {\n",
       "        vertical-align: top;\n",
       "    }\n",
       "\n",
       "    .dataframe thead th {\n",
       "        text-align: right;\n",
       "    }\n",
       "</style>\n",
       "<table border=\"1\" class=\"dataframe\">\n",
       "  <thead>\n",
       "    <tr style=\"text-align: right;\">\n",
       "      <th></th>\n",
       "      <th>created_at</th>\n",
       "      <th>id</th>\n",
       "      <th>text</th>\n",
       "    </tr>\n",
       "  </thead>\n",
       "  <tbody>\n",
       "    <tr>\n",
       "      <th>0</th>\n",
       "      <td>Fri Dec 23 12:08:41 +0000 2022</td>\n",
       "      <td>1606260504682409985</td>\n",
       "      <td>I wish all Agriculture, Food &amp;amp; Drink, Tour...</td>\n",
       "    </tr>\n",
       "    <tr>\n",
       "      <th>1</th>\n",
       "      <td>Fri Dec 23 12:02:35 +0000 2022</td>\n",
       "      <td>1606258966253621248</td>\n",
       "      <td>I wish all Agriculture, Food &amp;amp; Drink, Tour...</td>\n",
       "    </tr>\n",
       "    <tr>\n",
       "      <th>2</th>\n",
       "      <td>Fri Dec 23 12:00:55 +0000 2022</td>\n",
       "      <td>1606258550464024576</td>\n",
       "      <td>Knowledge of how to make and use pottery was s...</td>\n",
       "    </tr>\n",
       "    <tr>\n",
       "      <th>3</th>\n",
       "      <td>Fri Dec 23 12:00:12 +0000 2022</td>\n",
       "      <td>1606258367063764993</td>\n",
       "      <td>I wish all Agriculture, Food &amp;amp; Drink, Tour...</td>\n",
       "    </tr>\n",
       "  </tbody>\n",
       "</table>\n",
       "</div>"
      ],
      "text/plain": [
       "                       created_at                   id  \\\n",
       "0  Fri Dec 23 12:08:41 +0000 2022  1606260504682409985   \n",
       "1  Fri Dec 23 12:02:35 +0000 2022  1606258966253621248   \n",
       "2  Fri Dec 23 12:00:55 +0000 2022  1606258550464024576   \n",
       "3  Fri Dec 23 12:00:12 +0000 2022  1606258367063764993   \n",
       "\n",
       "                                                text  \n",
       "0  I wish all Agriculture, Food &amp; Drink, Tour...  \n",
       "1  I wish all Agriculture, Food &amp; Drink, Tour...  \n",
       "2  Knowledge of how to make and use pottery was s...  \n",
       "3  I wish all Agriculture, Food &amp; Drink, Tour...  "
      ]
     },
     "execution_count": 65,
     "metadata": {},
     "output_type": "execute_result"
    }
   ],
   "source": [
    "tweets = tweets_dt.iloc[:,[0,1,3]]\n",
    "tweets.head(4)"
   ]
  },
  {
   "cell_type": "markdown",
   "id": "a4aeddaa-cefe-4e2e-8de2-2da07673ba09",
   "metadata": {},
   "source": [
    "# Clean Your Text Data"
   ]
  },
  {
   "cell_type": "markdown",
   "id": "dead89be-b008-457a-b756-743f9679d0a6",
   "metadata": {},
   "source": [
    "## Worlds extractions"
   ]
  },
  {
   "cell_type": "code",
   "execution_count": 66,
   "id": "e77d4845-61f5-473f-8c7d-10007e17c096",
   "metadata": {},
   "outputs": [],
   "source": [
    "def clean_tweet(x, link, keyword, usernames):\n",
    "    list_of_lists =[]\n",
    "    if link == True:\n",
    "        list_of_links = []\n",
    "        words = x.split(' ')\n",
    "        for word in words:\n",
    "            if re.search('http', word):\n",
    "                list_of_links.append(re.split(\"\\W+\",word.lower()))\n",
    "        if len(list_of_links) > 0:\n",
    "            list_of_lists.append(list_of_links[0])\n",
    "    \n",
    "    if keyword == True:\n",
    "        list_of_keywords = []\n",
    "        words = x.split()\n",
    "        for word in words:\n",
    "            if word.startswith('#'):\n",
    "                list_of_keywords.append(word)\n",
    "        if len(list_of_keywords) > 0:\n",
    "            list_of_lists.append(list_of_keywords)\n",
    "            \n",
    "    if usernames == True:\n",
    "        list_of_usernames = []\n",
    "        words = x.split()\n",
    "        for word in words:\n",
    "            if word.startswith('@'):\n",
    "                list_of_usernames.append(word.lower().replace('@',''))\n",
    "        if len(list_of_usernames) > 0:\n",
    "            list_of_lists.append(list_of_usernames)\n",
    "    \n",
    "    return  [item for sublist in list_of_lists for item in sublist]\n",
    "\n",
    "        \n",
    "# keyword extraction from tweets\n",
    "def get_keywords(x):\n",
    "    list_of_keywords = []\n",
    "    words = x.split()\n",
    "    for word in words:\n",
    "        if word.startswith('#'):\n",
    "            list_of_keywords.append(word)\n",
    "    return list_of_keywords\n"
   ]
  },
  {
   "cell_type": "code",
   "execution_count": 67,
   "id": "8e75c4a2-c05a-4c40-96fb-e4a875f809bf",
   "metadata": {},
   "outputs": [],
   "source": [
    "list_of_lists = tweets['text'].apply(lambda tweet : clean_tweet(tweet, link = True, keyword = False, usernames = True))\n",
    "rem_list = [item for sublist in list_of_lists for item in sublist]\n",
    "\n",
    "tweets['text_c'] = tweets['text'].apply( lambda tweet : ' '.join([word for word in re.split(\"\\W+\",tweet) if word.lower() not in rem_list]))"
   ]
  },
  {
   "cell_type": "code",
   "execution_count": 68,
   "id": "02cf3a80-7754-49f6-ad1e-abc74bd2a5af",
   "metadata": {},
   "outputs": [],
   "source": [
    "tweets['keywords'] = tweets['text'].apply( lambda tweet : get_keywords(tweet) )"
   ]
  },
  {
   "cell_type": "code",
   "execution_count": 69,
   "id": "bda05b69",
   "metadata": {},
   "outputs": [
    {
     "data": {
      "text/html": [
       "<div>\n",
       "<style scoped>\n",
       "    .dataframe tbody tr th:only-of-type {\n",
       "        vertical-align: middle;\n",
       "    }\n",
       "\n",
       "    .dataframe tbody tr th {\n",
       "        vertical-align: top;\n",
       "    }\n",
       "\n",
       "    .dataframe thead th {\n",
       "        text-align: right;\n",
       "    }\n",
       "</style>\n",
       "<table border=\"1\" class=\"dataframe\">\n",
       "  <thead>\n",
       "    <tr style=\"text-align: right;\">\n",
       "      <th></th>\n",
       "      <th>created_at</th>\n",
       "      <th>id</th>\n",
       "      <th>text</th>\n",
       "      <th>text_c</th>\n",
       "      <th>keywords</th>\n",
       "    </tr>\n",
       "  </thead>\n",
       "  <tbody>\n",
       "    <tr>\n",
       "      <th>0</th>\n",
       "      <td>Fri Dec 23 12:08:41 +0000 2022</td>\n",
       "      <td>1606260504682409985</td>\n",
       "      <td>I wish all Agriculture, Food &amp;amp; Drink, Tour...</td>\n",
       "      <td>I wish all Agriculture Food amp Drink Tourism ...</td>\n",
       "      <td>[]</td>\n",
       "    </tr>\n",
       "    <tr>\n",
       "      <th>1</th>\n",
       "      <td>Fri Dec 23 12:02:35 +0000 2022</td>\n",
       "      <td>1606258966253621248</td>\n",
       "      <td>I wish all Agriculture, Food &amp;amp; Drink, Tour...</td>\n",
       "      <td>I wish all Agriculture Food amp Drink Tourism ...</td>\n",
       "      <td>[]</td>\n",
       "    </tr>\n",
       "  </tbody>\n",
       "</table>\n",
       "</div>"
      ],
      "text/plain": [
       "                       created_at                   id  \\\n",
       "0  Fri Dec 23 12:08:41 +0000 2022  1606260504682409985   \n",
       "1  Fri Dec 23 12:02:35 +0000 2022  1606258966253621248   \n",
       "\n",
       "                                                text  \\\n",
       "0  I wish all Agriculture, Food &amp; Drink, Tour...   \n",
       "1  I wish all Agriculture, Food &amp; Drink, Tour...   \n",
       "\n",
       "                                              text_c keywords  \n",
       "0  I wish all Agriculture Food amp Drink Tourism ...       []  \n",
       "1  I wish all Agriculture Food amp Drink Tourism ...       []  "
      ]
     },
     "execution_count": 69,
     "metadata": {},
     "output_type": "execute_result"
    }
   ],
   "source": [
    "tweets.head(2)"
   ]
  },
  {
   "cell_type": "code",
   "execution_count": 70,
   "id": "3aacee4f-7872-4d82-9c7d-e26b40459c3f",
   "metadata": {},
   "outputs": [
    {
     "name": "stdout",
     "output_type": "stream",
     "text": [
      "OLD:  I wish all Agriculture, Food &amp; Drink, Tourism and Domestic Workers across Europe a peaceful and joyful holidays. https://t.co/jnxr2I4J4b \n",
      "\n",
      "NEW:  I wish all Agriculture Food amp Drink Tourism and Domestic Workers across Europe a peaceful and joyful holidays\n"
     ]
    }
   ],
   "source": [
    "n = 1\n",
    "print('OLD: ', tweets['text'][n], '\\n')\n",
    "print('NEW: ', tweets['text_c'][n])"
   ]
  },
  {
   "cell_type": "markdown",
   "id": "05495ec4-c735-4de4-ac3c-97ec5336f5aa",
   "metadata": {
    "tags": []
   },
   "source": [
    "## PoterStemmer"
   ]
  },
  {
   "cell_type": "code",
   "execution_count": 71,
   "id": "3d017ded-762a-4d2e-83a1-5c77ddd7a2c1",
   "metadata": {},
   "outputs": [],
   "source": [
    "# Store the stopwords into the object named as \"stop_words\"\n",
    "stop_words = stopwords.words('english')\n",
    "\n",
    "# Store the string.punctuation into an object punct\n",
    "punct = string.punctuation\n",
    "\n",
    "# Initialise an object using a method PorterStemmer\n",
    "stemmer = PorterStemmer()"
   ]
  },
  {
   "cell_type": "code",
   "execution_count": 72,
   "id": "22f436cc-944d-421b-9e5f-b0d8b9db2720",
   "metadata": {},
   "outputs": [],
   "source": [
    "def stremming(df, text_col, name_new_col):\n",
    "    # Store the column of the dataframe named as \"text\"\n",
    "    X = df[text_col]\n",
    "    cleaned_data=[]\n",
    "    # For loop from first value to length(X), ^a-zA-Z means include small and capital case letters\n",
    "    for i in range(len(X)):\n",
    "        text = re.sub('[^a-zA-Z]', ' ', X.iloc[i])\n",
    "        text = text.lower().split()\n",
    "        text = [stemmer.stem(word) for word in text if (word not in stop_words) and (word not in punct)]\n",
    "        text = ' '.join(text)\n",
    "        df.loc[ i ,name_new_col] = text\n",
    "    print('Stremmer done!')"
   ]
  },
  {
   "cell_type": "code",
   "execution_count": 73,
   "id": "4daa44e1-e9b6-45e9-9558-4ed03ce04eee",
   "metadata": {},
   "outputs": [
    {
     "name": "stdout",
     "output_type": "stream",
     "text": [
      "Stremmer done!\n"
     ]
    }
   ],
   "source": [
    "stremming(tweets, 'text_c', 'text_ps')"
   ]
  },
  {
   "cell_type": "code",
   "execution_count": 74,
   "id": "1bf02984-820b-4a28-8f1a-dd801d25c847",
   "metadata": {},
   "outputs": [
    {
     "name": "stdout",
     "output_type": "stream",
     "text": [
      "I wish all Agriculture, Food &amp; Drink, Tourism and Domestic Workers across Europe a peaceful and joyful holidays. https://t.co/ZWPOEP9sHy \n",
      "\n",
      "wish agricultur food amp drink tourism domest worker across europ peac joy holiday \n",
      "\n"
     ]
    }
   ],
   "source": [
    "print(tweets['text'][0], '\\n')\n",
    "print(tweets['text_ps'][0], '\\n')"
   ]
  },
  {
   "cell_type": "markdown",
   "id": "1c75f0ff-efcc-4bc1-8f83-5cfe08074244",
   "metadata": {},
   "source": [
    "# Sentiment Analyzes"
   ]
  },
  {
   "cell_type": "markdown",
   "id": "71c6b817-f690-4816-9bb7-eca288a23508",
   "metadata": {},
   "source": [
    "TextBlob is a Python (2 and 3) library for processing textual data. It provides a simple API for diving into common natural language processing (NLP) tasks such as part-of-speech tagging, noun phrase extraction, sentiment analysis, classification, translation, and more. [link](https://textblob.readthedocs.io/en/dev/index.html)"
   ]
  },
  {
   "cell_type": "code",
   "execution_count": 75,
   "id": "be6f0424-270d-4d33-a4d2-a561f9dc4d06",
   "metadata": {},
   "outputs": [
    {
     "data": {
      "text/html": [
       "<div>\n",
       "<style scoped>\n",
       "    .dataframe tbody tr th:only-of-type {\n",
       "        vertical-align: middle;\n",
       "    }\n",
       "\n",
       "    .dataframe tbody tr th {\n",
       "        vertical-align: top;\n",
       "    }\n",
       "\n",
       "    .dataframe thead th {\n",
       "        text-align: right;\n",
       "    }\n",
       "</style>\n",
       "<table border=\"1\" class=\"dataframe\">\n",
       "  <thead>\n",
       "    <tr style=\"text-align: right;\">\n",
       "      <th></th>\n",
       "      <th>created_at</th>\n",
       "      <th>id</th>\n",
       "      <th>text</th>\n",
       "      <th>text_c</th>\n",
       "      <th>keywords</th>\n",
       "      <th>text_ps</th>\n",
       "      <th>TextBlob</th>\n",
       "      <th>Vader</th>\n",
       "    </tr>\n",
       "  </thead>\n",
       "  <tbody>\n",
       "    <tr>\n",
       "      <th>109</th>\n",
       "      <td>Mon Dec 19 06:40:07 +0000 2022</td>\n",
       "      <td>1604728265100386305</td>\n",
       "      <td>@owled_ @TwoProngedSword @restoreorderusa euro...</td>\n",
       "      <td>europe wouldn have advanced out of medieval ti...</td>\n",
       "      <td>[]</td>\n",
       "      <td>europ advanc mediev time</td>\n",
       "      <td>0.0</td>\n",
       "      <td>0.0</td>\n",
       "    </tr>\n",
       "    <tr>\n",
       "      <th>86</th>\n",
       "      <td>Tue Dec 20 01:26:45 +0000 2022</td>\n",
       "      <td>1605011792341647360</td>\n",
       "      <td>@ThePeoplesHubUK @GoogleExpertUK @TheRemarkabl...</td>\n",
       "      <td>TheTechieGirls</td>\n",
       "      <td>[]</td>\n",
       "      <td>thetechiegirl</td>\n",
       "      <td>0.0</td>\n",
       "      <td>0.0</td>\n",
       "    </tr>\n",
       "  </tbody>\n",
       "</table>\n",
       "</div>"
      ],
      "text/plain": [
       "                         created_at                   id  \\\n",
       "109  Mon Dec 19 06:40:07 +0000 2022  1604728265100386305   \n",
       "86   Tue Dec 20 01:26:45 +0000 2022  1605011792341647360   \n",
       "\n",
       "                                                  text  \\\n",
       "109  @owled_ @TwoProngedSword @restoreorderusa euro...   \n",
       "86   @ThePeoplesHubUK @GoogleExpertUK @TheRemarkabl...   \n",
       "\n",
       "                                                text_c keywords  \\\n",
       "109  europe wouldn have advanced out of medieval ti...       []   \n",
       "86                                      TheTechieGirls       []   \n",
       "\n",
       "                      text_ps  TextBlob  Vader  \n",
       "109  europ advanc mediev time       0.0    0.0  \n",
       "86              thetechiegirl       0.0    0.0  "
      ]
     },
     "execution_count": 75,
     "metadata": {},
     "output_type": "execute_result"
    }
   ],
   "source": [
    "for i in tweets.index:\n",
    "    text = tweets.loc[i,'text_ps']\n",
    "    tweets.loc[i, 'TextBlob'] = TextBlob(text).sentiment.polarity\n",
    "    #print(TextBlob(text).sentiment.polarity)\n",
    "    tweets.loc[i, 'Vader'] = SentimentIntensityAnalyzer().polarity_scores(text)['compound']\n",
    "    #print(SentimentIntensityAnalyzer().polarity_scores(text)['compound'], '\\n')\n",
    "    \n",
    "tweets.sample(2)"
   ]
  },
  {
   "cell_type": "code",
   "execution_count": 76,
   "id": "20692767-6953-4c5a-afc3-c572133f1b22",
   "metadata": {},
   "outputs": [],
   "source": [
    "def get_polarity(df, col):\n",
    "\n",
    "    polarity = 0\n",
    "    neutral = 0\n",
    "    wpositive = 0\n",
    "    positive = 0\n",
    "    spositive = 0\n",
    "    wnegative = 0\n",
    "    negative = 0\n",
    "    snegative = 0\n",
    "     \n",
    "    for t in df.index:\n",
    "        \n",
    "        v = df.loc[t, col]\n",
    "        polarity += v  # adding up polarities to find the average later\n",
    "\n",
    "        if (v == 0):  # adding reaction of how people are reacting to find average later\n",
    "            neutral += 1\n",
    "            desc = 'neutral'\n",
    "        elif (v > 0 and v <= 0.3):\n",
    "            wpositive += 1\n",
    "            desc ='weak_positive'\n",
    "        elif (v > 0.3 and v <= 0.6):\n",
    "            positive += 1\n",
    "            desc = 'positive'\n",
    "        elif (v > 0.6 and v <= 1):\n",
    "            spositive += 1\n",
    "            desc = 'strong_positive'\n",
    "        elif (v > -0.3 and v <= 0):\n",
    "            wnegative += 1\n",
    "            desc = 'weak_negative'\n",
    "        elif (v > -0.6 and v <= -0.3):\n",
    "            negative += 1\n",
    "            desc = 'negative'\n",
    "        elif (v > -1 and v <= -0.6):\n",
    "            snegative += 1\n",
    "            desc = 'strong_negative'\n",
    "         \n",
    "        df.loc[t, f'{col}_desc'] = desc\n",
    "        \n",
    "\n",
    "    return {'polarity_sum':polarity,\n",
    "            'polarity_mean':(polarity / len(df)),\n",
    "            'neutral':neutral,\n",
    "            'strong_positive':spositive,\n",
    "            'positive':positive,\n",
    "            'weak_positive':wpositive,\n",
    "            'weak_negative':wnegative,\n",
    "            'negative':negative,\n",
    "            'strong_negative':snegative}\n",
    "\n",
    "\n"
   ]
  },
  {
   "cell_type": "code",
   "execution_count": 77,
   "id": "90a9864e-2155-4fc0-9154-82d2544a2da9",
   "metadata": {},
   "outputs": [
    {
     "data": {
      "text/plain": [
       "{'polarity_sum': 17.242997835497835,\n",
       " 'polarity_mean': 0.06897199134199133,\n",
       " 'neutral': 158,\n",
       " 'strong_positive': 12,\n",
       " 'positive': 23,\n",
       " 'weak_positive': 29,\n",
       " 'weak_negative': 24,\n",
       " 'negative': 3,\n",
       " 'strong_negative': 1}"
      ]
     },
     "execution_count": 77,
     "metadata": {},
     "output_type": "execute_result"
    }
   ],
   "source": [
    "get_polarity(tweets,'TextBlob')"
   ]
  },
  {
   "cell_type": "code",
   "execution_count": 78,
   "id": "58ccdc01-f6c2-4a3f-9e1a-ea8688effb1b",
   "metadata": {},
   "outputs": [
    {
     "data": {
      "text/plain": [
       "{'polarity_sum': 23.771100000000004,\n",
       " 'polarity_mean': 0.09508440000000001,\n",
       " 'neutral': 130,\n",
       " 'strong_positive': 20,\n",
       " 'positive': 48,\n",
       " 'weak_positive': 19,\n",
       " 'weak_negative': 12,\n",
       " 'negative': 14,\n",
       " 'strong_negative': 7}"
      ]
     },
     "execution_count": 78,
     "metadata": {},
     "output_type": "execute_result"
    }
   ],
   "source": [
    "get_polarity(tweets,'Vader')"
   ]
  },
  {
   "cell_type": "code",
   "execution_count": 80,
   "id": "db5c2e3c-a707-450f-bb85-c7327834ad00",
   "metadata": {},
   "outputs": [
    {
     "data": {
      "text/html": [
       "<div>\n",
       "<style scoped>\n",
       "    .dataframe tbody tr th:only-of-type {\n",
       "        vertical-align: middle;\n",
       "    }\n",
       "\n",
       "    .dataframe tbody tr th {\n",
       "        vertical-align: top;\n",
       "    }\n",
       "\n",
       "    .dataframe thead th {\n",
       "        text-align: right;\n",
       "    }\n",
       "</style>\n",
       "<table border=\"1\" class=\"dataframe\">\n",
       "  <thead>\n",
       "    <tr style=\"text-align: right;\">\n",
       "      <th></th>\n",
       "      <th>created_at</th>\n",
       "      <th>id</th>\n",
       "      <th>text</th>\n",
       "      <th>text_c</th>\n",
       "      <th>keywords</th>\n",
       "      <th>text_ps</th>\n",
       "      <th>TextBlob</th>\n",
       "      <th>Vader</th>\n",
       "      <th>TextBlob_desc</th>\n",
       "      <th>Vader_desc</th>\n",
       "    </tr>\n",
       "  </thead>\n",
       "  <tbody>\n",
       "    <tr>\n",
       "      <th>27</th>\n",
       "      <td>Thu Dec 22 13:05:48 +0000 2022</td>\n",
       "      <td>1605912489669050371</td>\n",
       "      <td>‘Enjoy, it’s from Europe’: Brussels announces ...</td>\n",
       "      <td>Enjoy it s from Europe Brussels announces fres...</td>\n",
       "      <td>[]</td>\n",
       "      <td>enjoy europ brussel announc fresh agri food pr...</td>\n",
       "      <td>0.35</td>\n",
       "      <td>0.6705</td>\n",
       "      <td>positive</td>\n",
       "      <td>strong_positive</td>\n",
       "    </tr>\n",
       "  </tbody>\n",
       "</table>\n",
       "</div>"
      ],
      "text/plain": [
       "                        created_at                   id  \\\n",
       "27  Thu Dec 22 13:05:48 +0000 2022  1605912489669050371   \n",
       "\n",
       "                                                 text  \\\n",
       "27  ‘Enjoy, it’s from Europe’: Brussels announces ...   \n",
       "\n",
       "                                               text_c keywords  \\\n",
       "27  Enjoy it s from Europe Brussels announces fres...       []   \n",
       "\n",
       "                                              text_ps  TextBlob   Vader  \\\n",
       "27  enjoy europ brussel announc fresh agri food pr...      0.35  0.6705   \n",
       "\n",
       "   TextBlob_desc       Vader_desc  \n",
       "27      positive  strong_positive  "
      ]
     },
     "execution_count": 80,
     "metadata": {},
     "output_type": "execute_result"
    }
   ],
   "source": [
    "tweets.sample()"
   ]
  },
  {
   "cell_type": "code",
   "execution_count": 81,
   "id": "257a80b8-1d52-4e9e-9094-1c9dfe9114c0",
   "metadata": {},
   "outputs": [
    {
     "name": "stdout",
     "output_type": "stream",
     "text": [
      "Text Original: I wish all Agriculture, Food &amp; Drink, Tourism and Domestic Workers across Europe a peaceful and joyful holidays. https://t.co/EHGS8vi35D \n",
      " -------------------------------------------------------------------------------------------\n",
      "Text Clear: I wish all Agriculture Food amp Drink Tourism and Domestic Workers across Europe a peaceful and joyful holidays \n",
      " -------------------------------------------------------------------------------------------\n",
      "Text Steammed: wish agricultur food amp drink tourism domest worker across europ peac joy holiday \n",
      " -------------------------------------------------------------------------------------------\n",
      "KeyWords: [] \n",
      " -------------------------------------------------------------------------------------------\n",
      "TextBlob:  0.8 strong_positive\n",
      "Vader:  0.8481 strong_positive\n"
     ]
    }
   ],
   "source": [
    "##Checking Twitters\n",
    "\n",
    "n = 3\n",
    "print('Text Original:', tweets.loc[n, 'text'], '\\n',\n",
    "     '-------------------------------------------------------------------------------------------')\n",
    "print('Text Clear:', tweets.loc[n, 'text_c'], '\\n',\n",
    "     '-------------------------------------------------------------------------------------------')\n",
    "\n",
    "print('Text Steammed:', tweets.loc[n, 'text_ps'], '\\n',\n",
    "     '-------------------------------------------------------------------------------------------')\n",
    "\n",
    "print('KeyWords:', tweets.loc[n, 'keywords'], '\\n',\n",
    "     '-------------------------------------------------------------------------------------------')\n",
    "\n",
    "print('TextBlob: ',tweets.loc[n, 'TextBlob'], tweets.loc[n, 'TextBlob_desc'])\n",
    "print('Vader: ', tweets.loc[n, 'Vader'], tweets.loc[n, 'Vader_desc'])"
   ]
  },
  {
   "cell_type": "code",
   "execution_count": 82,
   "id": "e8add63f-2230-4811-941a-d4fd1e8ea7ee",
   "metadata": {},
   "outputs": [
    {
     "data": {
      "text/html": [
       "<div>\n",
       "<style scoped>\n",
       "    .dataframe tbody tr th:only-of-type {\n",
       "        vertical-align: middle;\n",
       "    }\n",
       "\n",
       "    .dataframe tbody tr th {\n",
       "        vertical-align: top;\n",
       "    }\n",
       "\n",
       "    .dataframe thead th {\n",
       "        text-align: right;\n",
       "    }\n",
       "</style>\n",
       "<table border=\"1\" class=\"dataframe\">\n",
       "  <thead>\n",
       "    <tr style=\"text-align: right;\">\n",
       "      <th></th>\n",
       "      <th>keywords</th>\n",
       "      <th>text_ps</th>\n",
       "      <th>TextBlob</th>\n",
       "      <th>Vader</th>\n",
       "      <th>TextBlob_desc</th>\n",
       "      <th>Vader_desc</th>\n",
       "    </tr>\n",
       "  </thead>\n",
       "  <tbody>\n",
       "    <tr>\n",
       "      <th>0</th>\n",
       "      <td>[]</td>\n",
       "      <td>wish agricultur food amp drink tourism domest ...</td>\n",
       "      <td>0.800000</td>\n",
       "      <td>0.8481</td>\n",
       "      <td>strong_positive</td>\n",
       "      <td>strong_positive</td>\n",
       "    </tr>\n",
       "    <tr>\n",
       "      <th>1</th>\n",
       "      <td>[]</td>\n",
       "      <td>wish agricultur food amp drink tourism domest ...</td>\n",
       "      <td>0.800000</td>\n",
       "      <td>0.8481</td>\n",
       "      <td>strong_positive</td>\n",
       "      <td>strong_positive</td>\n",
       "    </tr>\n",
       "    <tr>\n",
       "      <th>2</th>\n",
       "      <td>[]</td>\n",
       "      <td>knowledg make use potteri share hunter gather ...</td>\n",
       "      <td>0.000000</td>\n",
       "      <td>0.2960</td>\n",
       "      <td>neutral</td>\n",
       "      <td>weak_positive</td>\n",
       "    </tr>\n",
       "    <tr>\n",
       "      <th>3</th>\n",
       "      <td>[]</td>\n",
       "      <td>wish agricultur food amp drink tourism domest ...</td>\n",
       "      <td>0.800000</td>\n",
       "      <td>0.8481</td>\n",
       "      <td>strong_positive</td>\n",
       "      <td>strong_positive</td>\n",
       "    </tr>\n",
       "    <tr>\n",
       "      <th>4</th>\n",
       "      <td>[]</td>\n",
       "      <td>wish agricultur food amp drink tourism domest ...</td>\n",
       "      <td>0.800000</td>\n",
       "      <td>0.8481</td>\n",
       "      <td>strong_positive</td>\n",
       "      <td>strong_positive</td>\n",
       "    </tr>\n",
       "    <tr>\n",
       "      <th>...</th>\n",
       "      <td>...</td>\n",
       "      <td>...</td>\n",
       "      <td>...</td>\n",
       "      <td>...</td>\n",
       "      <td>...</td>\n",
       "      <td>...</td>\n",
       "    </tr>\n",
       "    <tr>\n",
       "      <th>245</th>\n",
       "      <td>[]</td>\n",
       "      <td>hold third largest economi europ boast econom ...</td>\n",
       "      <td>0.000000</td>\n",
       "      <td>0.3818</td>\n",
       "      <td>neutral</td>\n",
       "      <td>positive</td>\n",
       "    </tr>\n",
       "    <tr>\n",
       "      <th>246</th>\n",
       "      <td>[#France, #FAO, #Europe]</td>\n",
       "      <td>associ project offic food agricultur europ</td>\n",
       "      <td>0.000000</td>\n",
       "      <td>0.0000</td>\n",
       "      <td>neutral</td>\n",
       "      <td>neutral</td>\n",
       "    </tr>\n",
       "    <tr>\n",
       "      <th>247</th>\n",
       "      <td>[#TheIrishCivilWar]</td>\n",
       "      <td>ireland time minist agricultur taoisigh fact t...</td>\n",
       "      <td>0.000000</td>\n",
       "      <td>0.0000</td>\n",
       "      <td>neutral</td>\n",
       "      <td>neutral</td>\n",
       "    </tr>\n",
       "    <tr>\n",
       "      <th>248</th>\n",
       "      <td>[]</td>\n",
       "      <td>quit sure variou tribe quit sophist pygmi live...</td>\n",
       "      <td>0.318182</td>\n",
       "      <td>0.3182</td>\n",
       "      <td>positive</td>\n",
       "      <td>positive</td>\n",
       "    </tr>\n",
       "    <tr>\n",
       "      <th>249</th>\n",
       "      <td>[]</td>\n",
       "      <td>interest noel esri measur carbon emiss ireland...</td>\n",
       "      <td>-0.125000</td>\n",
       "      <td>0.4588</td>\n",
       "      <td>weak_negative</td>\n",
       "      <td>positive</td>\n",
       "    </tr>\n",
       "  </tbody>\n",
       "</table>\n",
       "<p>250 rows × 6 columns</p>\n",
       "</div>"
      ],
      "text/plain": [
       "                     keywords  \\\n",
       "0                          []   \n",
       "1                          []   \n",
       "2                          []   \n",
       "3                          []   \n",
       "4                          []   \n",
       "..                        ...   \n",
       "245                        []   \n",
       "246  [#France, #FAO, #Europe]   \n",
       "247       [#TheIrishCivilWar]   \n",
       "248                        []   \n",
       "249                        []   \n",
       "\n",
       "                                               text_ps  TextBlob   Vader  \\\n",
       "0    wish agricultur food amp drink tourism domest ...  0.800000  0.8481   \n",
       "1    wish agricultur food amp drink tourism domest ...  0.800000  0.8481   \n",
       "2    knowledg make use potteri share hunter gather ...  0.000000  0.2960   \n",
       "3    wish agricultur food amp drink tourism domest ...  0.800000  0.8481   \n",
       "4    wish agricultur food amp drink tourism domest ...  0.800000  0.8481   \n",
       "..                                                 ...       ...     ...   \n",
       "245  hold third largest economi europ boast econom ...  0.000000  0.3818   \n",
       "246         associ project offic food agricultur europ  0.000000  0.0000   \n",
       "247  ireland time minist agricultur taoisigh fact t...  0.000000  0.0000   \n",
       "248  quit sure variou tribe quit sophist pygmi live...  0.318182  0.3182   \n",
       "249  interest noel esri measur carbon emiss ireland... -0.125000  0.4588   \n",
       "\n",
       "       TextBlob_desc       Vader_desc  \n",
       "0    strong_positive  strong_positive  \n",
       "1    strong_positive  strong_positive  \n",
       "2            neutral    weak_positive  \n",
       "3    strong_positive  strong_positive  \n",
       "4    strong_positive  strong_positive  \n",
       "..               ...              ...  \n",
       "245          neutral         positive  \n",
       "246          neutral          neutral  \n",
       "247          neutral          neutral  \n",
       "248         positive         positive  \n",
       "249    weak_negative         positive  \n",
       "\n",
       "[250 rows x 6 columns]"
      ]
     },
     "execution_count": 82,
     "metadata": {},
     "output_type": "execute_result"
    }
   ],
   "source": [
    "tweets.iloc[:, -6:]"
   ]
  },
  {
   "cell_type": "markdown",
   "id": "2f1e7c79-0879-49b5-89f8-22752f114ae9",
   "metadata": {},
   "source": [
    "## Irony and Sarcasm\n",
    "\n",
    "Minimizing the impact of irony and sarcasm through hashing tags"
   ]
  },
  {
   "cell_type": "code",
   "execution_count": 83,
   "id": "d3f3bff5-51d0-4991-bac3-4f6f98cfc591",
   "metadata": {},
   "outputs": [],
   "source": [
    "from sklearn.model_selection import train_test_split\n",
    "from sklearn.metrics import confusion_matrix\n",
    "from sklearn.svm import LinearSVC\n",
    "from sklearn.model_selection import cross_val_score\n",
    "from sklearn.naive_bayes import GaussianNB\n",
    "from sklearn.linear_model import LogisticRegression\n",
    "from sklearn.ensemble import RandomForestClassifier\n",
    "from sklearn.feature_extraction.text import TfidfVectorizer"
   ]
  },
  {
   "cell_type": "code",
   "execution_count": 84,
   "id": "807c9b2e-6cc2-467d-8c8e-25a30ea4a224",
   "metadata": {},
   "outputs": [
    {
     "data": {
      "text/html": [
       "<div>\n",
       "<style scoped>\n",
       "    .dataframe tbody tr th:only-of-type {\n",
       "        vertical-align: middle;\n",
       "    }\n",
       "\n",
       "    .dataframe tbody tr th {\n",
       "        vertical-align: top;\n",
       "    }\n",
       "\n",
       "    .dataframe thead th {\n",
       "        text-align: right;\n",
       "    }\n",
       "</style>\n",
       "<table border=\"1\" class=\"dataframe\">\n",
       "  <thead>\n",
       "    <tr style=\"text-align: right;\">\n",
       "      <th></th>\n",
       "      <th>headline</th>\n",
       "      <th>is_sarcastic</th>\n",
       "    </tr>\n",
       "  </thead>\n",
       "  <tbody>\n",
       "    <tr>\n",
       "      <th>12895</th>\n",
       "      <td>funniest parenting tweets: what moms and dads ...</td>\n",
       "      <td>0</td>\n",
       "    </tr>\n",
       "  </tbody>\n",
       "</table>\n",
       "</div>"
      ],
      "text/plain": [
       "                                                headline  is_sarcastic\n",
       "12895  funniest parenting tweets: what moms and dads ...             0"
      ]
     },
     "execution_count": 84,
     "metadata": {},
     "output_type": "execute_result"
    }
   ],
   "source": [
    "news = pd.read_csv('sarcasm_headlines.bz2')\n",
    "news.sample()"
   ]
  },
  {
   "cell_type": "code",
   "execution_count": 85,
   "id": "144ff0f9-d5f9-4a1a-bc6b-1937bfcda176",
   "metadata": {},
   "outputs": [
    {
     "name": "stdout",
     "output_type": "stream",
     "text": [
      "headline        False\n",
      "is_sarcastic    False\n",
      "dtype: bool\n"
     ]
    }
   ],
   "source": [
    "print(news.isnull().any(axis = 0))"
   ]
  },
  {
   "cell_type": "code",
   "execution_count": 86,
   "id": "b8c5cabd-ac81-4f61-bd88-8532fba63e0b",
   "metadata": {},
   "outputs": [
    {
     "name": "stdout",
     "output_type": "stream",
     "text": [
      "Stremmer done!\n"
     ]
    }
   ],
   "source": [
    "stremming(news, 'headline', 'headline_ps')"
   ]
  },
  {
   "cell_type": "code",
   "execution_count": 87,
   "id": "a35696a6-e876-4c86-99c8-28c31e2f7156",
   "metadata": {},
   "outputs": [
    {
     "data": {
      "text/html": [
       "<div>\n",
       "<style scoped>\n",
       "    .dataframe tbody tr th:only-of-type {\n",
       "        vertical-align: middle;\n",
       "    }\n",
       "\n",
       "    .dataframe tbody tr th {\n",
       "        vertical-align: top;\n",
       "    }\n",
       "\n",
       "    .dataframe thead th {\n",
       "        text-align: right;\n",
       "    }\n",
       "</style>\n",
       "<table border=\"1\" class=\"dataframe\">\n",
       "  <thead>\n",
       "    <tr style=\"text-align: right;\">\n",
       "      <th></th>\n",
       "      <th>headline</th>\n",
       "      <th>is_sarcastic</th>\n",
       "      <th>headline_ps</th>\n",
       "    </tr>\n",
       "  </thead>\n",
       "  <tbody>\n",
       "    <tr>\n",
       "      <th>1769</th>\n",
       "      <td>gunfire erupts in ferguson after protester is ...</td>\n",
       "      <td>0</td>\n",
       "      <td>gunfir erupt ferguson protest struck car</td>\n",
       "    </tr>\n",
       "    <tr>\n",
       "      <th>24840</th>\n",
       "      <td>these are the only 5 shoes you need in your cl...</td>\n",
       "      <td>0</td>\n",
       "      <td>shoe need closet fall</td>\n",
       "    </tr>\n",
       "  </tbody>\n",
       "</table>\n",
       "</div>"
      ],
      "text/plain": [
       "                                                headline  is_sarcastic  \\\n",
       "1769   gunfire erupts in ferguson after protester is ...             0   \n",
       "24840  these are the only 5 shoes you need in your cl...             0   \n",
       "\n",
       "                                    headline_ps  \n",
       "1769   gunfir erupt ferguson protest struck car  \n",
       "24840                     shoe need closet fall  "
      ]
     },
     "execution_count": 87,
     "metadata": {},
     "output_type": "execute_result"
    }
   ],
   "source": [
    "news.sample(2)"
   ]
  },
  {
   "cell_type": "code",
   "execution_count": 88,
   "id": "89da3d5f-ade0-4bbb-9347-27fda1d84d6d",
   "metadata": {},
   "outputs": [],
   "source": [
    "def create_features(df, col, max_feat):\n",
    "    features = df[col]\n",
    "\n",
    "    # vectorizing the data with maximum features\n",
    "    tv = TfidfVectorizer(max_features = max_feat)\n",
    "    features = list(features)\n",
    "    features = tv.fit_transform(features).toarray()\n",
    "    \n",
    "    return features"
   ]
  },
  {
   "cell_type": "code",
   "execution_count": 92,
   "id": "6eadf98f-4d8c-4ba3-8db8-6435afb36ec9",
   "metadata": {},
   "outputs": [],
   "source": [
    "features = create_features(news, 'headline_ps', 1000)\n",
    "labels = news['is_sarcastic']"
   ]
  },
  {
   "cell_type": "code",
   "execution_count": 93,
   "id": "56eacc4a-5c35-4830-89b3-8657354f2da8",
   "metadata": {},
   "outputs": [],
   "source": [
    "# getting training and testing data\n",
    "features_train, features_test, labels_train, labels_test = train_test_split(features, labels, test_size = .05, random_state = 0)"
   ]
  },
  {
   "cell_type": "code",
   "execution_count": 94,
   "id": "c2d6160f-3ab9-45f9-99c1-58a414f2f2a7",
   "metadata": {},
   "outputs": [
    {
     "name": "stdout",
     "output_type": "stream",
     "text": [
      "\n",
      "Linear Support Vector Classifier:\n",
      "Train:  0.7708587868994601\n",
      "Test:  0.7455089820359282\n",
      "\n",
      "Gaussuan Naive Bayes:\n",
      "Train:  0.7110314113427659\n",
      "Test:  0.6931137724550899\n",
      "\n",
      "Logistic Regression:\n",
      "Train:  0.7681787727111496\n",
      "Test:  0.7455089820359282\n",
      "\n",
      "Random Forest Classifier:\n",
      "Train:  0.9592874315216963\n",
      "Test:  0.7163173652694611\n"
     ]
    }
   ],
   "source": [
    "print('\\nLinear Support Vector Classifier:')\n",
    "lsvc = LinearSVC()\n",
    "lsvc.fit(features_train, labels_train)\n",
    "print('Train: ',lsvc.score(features_train, labels_train))\n",
    "print('Test: ',lsvc.score(features_test, labels_test))\n",
    "\n",
    "\n",
    "print('\\nGaussuan Naive Bayes:')\n",
    "gnb = GaussianNB()\n",
    "gnb.fit(features_train, labels_train)\n",
    "print('Train: ',gnb.score(features_train, labels_train))\n",
    "print('Test: ',gnb.score(features_test, labels_test))\n",
    "\n",
    "\n",
    "print('\\nLogistic Regression:')\n",
    "lr = LogisticRegression()\n",
    "lr.fit(features_train, labels_train)\n",
    "print('Train: ',lr.score(features_train, labels_train))\n",
    "print('Test: ',lr.score(features_test, labels_test))\n",
    "\n",
    "\n",
    "print('\\nRandom Forest Classifier:')\n",
    "rfc = RandomForestClassifier(n_estimators = 10, random_state = 0)\n",
    "rfc.fit(features_train, labels_train)\n",
    "print('Train: ',rfc.score(features_train, labels_train))\n",
    "print('Test: ',rfc.score(features_test, labels_test))"
   ]
  },
  {
   "cell_type": "markdown",
   "id": "3ceb459a-7204-4be6-abb3-272c6de7e094",
   "metadata": {},
   "source": [
    "### Prev"
   ]
  },
  {
   "cell_type": "code",
   "execution_count": 97,
   "id": "d7535429-6117-4e25-bf83-9e2c5196f19b",
   "metadata": {},
   "outputs": [],
   "source": [
    "prev = create_features(tweets, 'text_ps', 1000)"
   ]
  },
  {
   "cell_type": "code",
   "execution_count": 98,
   "id": "ff59005e-cb16-4022-80d1-f57e57206b49",
   "metadata": {},
   "outputs": [],
   "source": [
    "tweets['is_sarcastic'] = lsvc.predict(prev)"
   ]
  },
  {
   "cell_type": "code",
   "execution_count": 99,
   "id": "8953ba5b-4f2e-40a6-8007-58e942b58e42",
   "metadata": {},
   "outputs": [
    {
     "data": {
      "text/html": [
       "<div>\n",
       "<style scoped>\n",
       "    .dataframe tbody tr th:only-of-type {\n",
       "        vertical-align: middle;\n",
       "    }\n",
       "\n",
       "    .dataframe tbody tr th {\n",
       "        vertical-align: top;\n",
       "    }\n",
       "\n",
       "    .dataframe thead th {\n",
       "        text-align: right;\n",
       "    }\n",
       "</style>\n",
       "<table border=\"1\" class=\"dataframe\">\n",
       "  <thead>\n",
       "    <tr style=\"text-align: right;\">\n",
       "      <th></th>\n",
       "      <th>created_at</th>\n",
       "      <th>id</th>\n",
       "      <th>text</th>\n",
       "      <th>text_c</th>\n",
       "      <th>keywords</th>\n",
       "      <th>text_ps</th>\n",
       "      <th>TextBlob</th>\n",
       "      <th>Vader</th>\n",
       "      <th>TextBlob_desc</th>\n",
       "      <th>Vader_desc</th>\n",
       "      <th>is_sarcastic</th>\n",
       "    </tr>\n",
       "  </thead>\n",
       "  <tbody>\n",
       "    <tr>\n",
       "      <th>18</th>\n",
       "      <td>Thu Dec 22 17:30:01 +0000 2022</td>\n",
       "      <td>1605978981928419329</td>\n",
       "      <td>For decades, researchers believed pottery arri...</td>\n",
       "      <td>For decades researchers believed pottery arriv...</td>\n",
       "      <td>[]</td>\n",
       "      <td>decad research believ potteri arriv europ agri...</td>\n",
       "      <td>0.0</td>\n",
       "      <td>0.0000</td>\n",
       "      <td>neutral</td>\n",
       "      <td>neutral</td>\n",
       "      <td>1</td>\n",
       "    </tr>\n",
       "    <tr>\n",
       "      <th>64</th>\n",
       "      <td>Tue Dec 20 17:53:59 +0000 2022</td>\n",
       "      <td>1605260237379870730</td>\n",
       "      <td>Excellent discussion on the future of #Abraham...</td>\n",
       "      <td>Excellent discussion on future of AbrahamAccor...</td>\n",
       "      <td>[#AbrahamAccords]</td>\n",
       "      <td>excel discuss futur abrahamaccord cooper agric...</td>\n",
       "      <td>0.0</td>\n",
       "      <td>0.4588</td>\n",
       "      <td>neutral</td>\n",
       "      <td>positive</td>\n",
       "      <td>1</td>\n",
       "    </tr>\n",
       "    <tr>\n",
       "      <th>174</th>\n",
       "      <td>Thu Dec 15 21:32:33 +0000 2022</td>\n",
       "      <td>1603503302917890064</td>\n",
       "      <td>A recent studie on climate and trees suggest H...</td>\n",
       "      <td>A recent studie on climate and trees suggest H...</td>\n",
       "      <td>[]</td>\n",
       "      <td>recent studi climat tree suggest hunnic peopl ...</td>\n",
       "      <td>0.0</td>\n",
       "      <td>0.0000</td>\n",
       "      <td>neutral</td>\n",
       "      <td>neutral</td>\n",
       "      <td>0</td>\n",
       "    </tr>\n",
       "    <tr>\n",
       "      <th>124</th>\n",
       "      <td>Sun Dec 18 09:09:52 +0000 2022</td>\n",
       "      <td>1604403562515435520</td>\n",
       "      <td>‘Sensible centrism’ = racist eugenics.\\n\\nThe ...</td>\n",
       "      <td>Sensible centrism racist eugenics cheddar man ...</td>\n",
       "      <td>[]</td>\n",
       "      <td>sensibl centrism racist eugen cheddar man sout...</td>\n",
       "      <td>0.0</td>\n",
       "      <td>-0.6124</td>\n",
       "      <td>neutral</td>\n",
       "      <td>strong_negative</td>\n",
       "      <td>0</td>\n",
       "    </tr>\n",
       "  </tbody>\n",
       "</table>\n",
       "</div>"
      ],
      "text/plain": [
       "                         created_at                   id  \\\n",
       "18   Thu Dec 22 17:30:01 +0000 2022  1605978981928419329   \n",
       "64   Tue Dec 20 17:53:59 +0000 2022  1605260237379870730   \n",
       "174  Thu Dec 15 21:32:33 +0000 2022  1603503302917890064   \n",
       "124  Sun Dec 18 09:09:52 +0000 2022  1604403562515435520   \n",
       "\n",
       "                                                  text  \\\n",
       "18   For decades, researchers believed pottery arri...   \n",
       "64   Excellent discussion on the future of #Abraham...   \n",
       "174  A recent studie on climate and trees suggest H...   \n",
       "124  ‘Sensible centrism’ = racist eugenics.\\n\\nThe ...   \n",
       "\n",
       "                                                text_c           keywords  \\\n",
       "18   For decades researchers believed pottery arriv...                 []   \n",
       "64   Excellent discussion on future of AbrahamAccor...  [#AbrahamAccords]   \n",
       "174  A recent studie on climate and trees suggest H...                 []   \n",
       "124  Sensible centrism racist eugenics cheddar man ...                 []   \n",
       "\n",
       "                                               text_ps  TextBlob   Vader  \\\n",
       "18   decad research believ potteri arriv europ agri...       0.0  0.0000   \n",
       "64   excel discuss futur abrahamaccord cooper agric...       0.0  0.4588   \n",
       "174  recent studi climat tree suggest hunnic peopl ...       0.0  0.0000   \n",
       "124  sensibl centrism racist eugen cheddar man sout...       0.0 -0.6124   \n",
       "\n",
       "    TextBlob_desc       Vader_desc  is_sarcastic  \n",
       "18        neutral          neutral             1  \n",
       "64        neutral         positive             1  \n",
       "174       neutral          neutral             0  \n",
       "124       neutral  strong_negative             0  "
      ]
     },
     "execution_count": 99,
     "metadata": {},
     "output_type": "execute_result"
    }
   ],
   "source": [
    "tweets.sample(4)"
   ]
  },
  {
   "cell_type": "code",
   "execution_count": 102,
   "id": "28300fd1-d6f9-4862-ad14-cad72141951d",
   "metadata": {},
   "outputs": [
    {
     "name": "stdout",
     "output_type": "stream",
     "text": [
      "Text Original: The number of sheep slaughtered during the period January to November 2022 increased by 7.5%… https://t.co/o722t07Eo6 \n",
      " -------------------------------------------------------------------------------------------\n",
      "Text Clear: number of sheep slaughtered during period January to November 2022 increased by 7 5 \n",
      " -------------------------------------------------------------------------------------------\n",
      "Text Steammed: number sheep slaughter period januari novemb increas \n",
      " -------------------------------------------------------------------------------------------\n",
      "KeyWords: [] \n",
      " -------------------------------------------------------------------------------------------\n",
      "TextBlob:  0.0 neutral\n",
      "Vader:  0.0772 weak_positive\n",
      "Sarcasm:  1\n"
     ]
    }
   ],
   "source": [
    "##Checking Twitters\n",
    "\n",
    "n = 78\n",
    "print('Text Original:', tweets.loc[n, 'text'], '\\n',\n",
    "     '-------------------------------------------------------------------------------------------')\n",
    "print('Text Clear:', tweets.loc[n, 'text_c'], '\\n',\n",
    "     '-------------------------------------------------------------------------------------------')\n",
    "\n",
    "print('Text Steammed:', tweets.loc[n, 'text_ps'], '\\n',\n",
    "     '-------------------------------------------------------------------------------------------')\n",
    "\n",
    "print('KeyWords:', tweets.loc[n, 'keywords'], '\\n',\n",
    "     '-------------------------------------------------------------------------------------------')\n",
    "\n",
    "print('TextBlob: ',tweets.loc[n, 'TextBlob'], tweets.loc[n, 'TextBlob_desc'])\n",
    "print('Vader: ', tweets.loc[n, 'Vader'], tweets.loc[n, 'Vader_desc'])\n",
    "print('Sarcasm: ', tweets.loc[n, 'is_sarcastic'])\n"
   ]
  },
  {
   "cell_type": "code",
   "execution_count": null,
   "id": "d2ddf721",
   "metadata": {},
   "outputs": [],
   "source": []
  }
 ],
 "metadata": {
  "kernelspec": {
   "display_name": "Python 3 (ipykernel)",
   "language": "python",
   "name": "python3"
  },
  "language_info": {
   "codemirror_mode": {
    "name": "ipython",
    "version": 3
   },
   "file_extension": ".py",
   "mimetype": "text/x-python",
   "name": "python",
   "nbconvert_exporter": "python",
   "pygments_lexer": "ipython3",
   "version": "3.9.13"
  }
 },
 "nbformat": 4,
 "nbformat_minor": 5
}
