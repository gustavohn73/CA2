{
 "cells": [
  {
   "cell_type": "markdown",
   "id": "74a2b37d-661a-4bec-84fc-6803d3f4519c",
   "metadata": {},
   "source": [
    "# Settings"
   ]
  },
  {
   "cell_type": "raw",
   "id": "e79a4e90-9825-447a-ae88-c93f9505717c",
   "metadata": {},
   "source": [
    "!pip install textblob\n",
    "!pip install vaderSentiment\n",
    "!pip install nltk\n",
    "!pip install opendatasets"
   ]
  },
  {
   "cell_type": "markdown",
   "id": "2ab86713-fd1a-4530-bbf1-218b9c04a44b",
   "metadata": {},
   "source": [
    "## Imports"
   ]
  },
  {
   "cell_type": "code",
   "execution_count": 1,
   "id": "1089dd83-4193-43ae-ad4c-fda87e659897",
   "metadata": {},
   "outputs": [],
   "source": [
    "import sys,tweepy,csv,re, requests, json\n",
    "import matplotlib.pyplot as plt\n",
    "from dotenv import dotenv_values\n",
    "import pandas as pd\n",
    "import numpy as np\n",
    "import os.path, time, re\n",
    "\n",
    "\n",
    "from vaderSentiment.vaderSentiment import SentimentIntensityAnalyzer\n",
    "from textblob import TextBlob"
   ]
  },
  {
   "cell_type": "code",
   "execution_count": 2,
   "id": "50d86504-3bc1-443b-8827-e0f0e5e3291e",
   "metadata": {},
   "outputs": [
    {
     "name": "stderr",
     "output_type": "stream",
     "text": [
      "[nltk_data] Downloading package stopwords to\n",
      "[nltk_data]     /Users/gustavo/nltk_data...\n",
      "[nltk_data]   Package stopwords is already up-to-date!\n"
     ]
    }
   ],
   "source": [
    "import nltk\n",
    "from nltk.corpus import stopwords\n",
    "nltk.download('stopwords')\n",
    "\n",
    "import string\n",
    "from nltk.stem import PorterStemmer"
   ]
  },
  {
   "cell_type": "code",
   "execution_count": 3,
   "id": "b30cfb27-cb88-4c26-9801-2f4e55e9cf80",
   "metadata": {},
   "outputs": [],
   "source": [
    "import warnings\n",
    "warnings.filterwarnings('ignore') # We can suppress the warnings"
   ]
  },
  {
   "cell_type": "markdown",
   "id": "cfbf0efa-7921-4ea7-a523-9661f26befd5",
   "metadata": {},
   "source": [
    "# Getting Twitter"
   ]
  },
  {
   "cell_type": "code",
   "execution_count": 4,
   "id": "0258f1ec-83c2-453d-84e1-1db7ded3603e",
   "metadata": {},
   "outputs": [],
   "source": [
    "#token\n",
    "config = dotenv_values(\".env\")\n",
    "bearer_token = config['BEARER_TOKEN']\n",
    "\n",
    "\n",
    "#connections\n",
    "auth = tweepy.OAuth2BearerHandler({bearer_token})\n",
    "api = tweepy.API(auth)\n",
    "\n",
    "\n",
    "\n",
    "def bearer_oauth(r):\n",
    "    r.headers[\"Authorization\"] = f\"Bearer {bearer_token}\"\n",
    "    r.headers[\"User-Agent\"] = \"v2RecentSearchPython\"\n",
    "    return r\n",
    "\n",
    "def connect_to_endpoint(url, params):\n",
    "    response = requests.get(url, auth=bearer_oauth, params=params)\n",
    "    #print(response.status_code)\n",
    "    if response.status_code != 200:\n",
    "        raise Exception(response.status_code, response.text)\n",
    "    return response.json()\n",
    "\n",
    "def get_tweets(query,file_name):\n",
    "    search_url = 'https://api.twitter.com/2/tweets/search/recent'\n",
    "    #search_url = 'https://api.twitter.com/1.1/search/tweets.json?'\n",
    "\n",
    "    file_name = f'{file_name}.bz2'\n",
    "    \n",
    "    if os.path.exists(file_name) == False: #First checking if database exists\n",
    "        print(f'Getting tweets...')\n",
    "        \n",
    "        # Querying the API\n",
    "        json_response = connect_to_endpoint(search_url, query)\n",
    "        \n",
    "        '''\n",
    "        It's necessary to complement with next twitters\n",
    "        '''\n",
    " \n",
    "        tweets_dt = pd.DataFrame.from_dict(json_response['data'])\n",
    "        tweets_dt.to_csv(file_name, index=False,compression='bz2')\n",
    "        \n",
    "    else:\n",
    "        create_dt = time.strftime(\"%d/%m/%Y %H:%M:%S\",time.strptime(time.ctime(os.path.getmtime(file_name))))\n",
    "        print(f'Reading {file_name}, created at {create_dt}')\n",
    "        tweets_dt = pd.read_csv(file_name)\n",
    "        \n",
    "    return tweets_dt"
   ]
  },
  {
   "cell_type": "code",
   "execution_count": 5,
   "id": "11e664e2-de32-4110-8f85-5d79880cdf4e",
   "metadata": {},
   "outputs": [],
   "source": [
    "NoOfTerms = int(10)\n",
    "\n",
    "query_params = {\n",
    "    #'q' : 'beef OR milk place:ea679934779f45c7',\n",
    "    'query': 'Irish Farmers agriculture -is:retweet',\n",
    "    'max_results': f'{NoOfTerms}',\n",
    "    'expansions': 'author_id,in_reply_to_user_id,geo.place_id',\n",
    "    'tweet.fields': 'id,text,author_id,in_reply_to_user_id,geo,conversation_id,created_at,lang,public_metrics,referenced_tweets,reply_settings,source',\n",
    "    'user.fields': 'id,name,username,created_at,description,public_metrics,verified',\n",
    "    'place.fields': 'full_name,id,country,country_code,geo,name,place_type',\n",
    "}\n"
   ]
  },
  {
   "cell_type": "raw",
   "id": "88e09659-5e7d-458c-a5e4-d93e65a2d301",
   "metadata": {},
   "source": [
    "# Parsing the response\n",
    "parsedRes = json.dumps(json_response, indent=4, sort_keys=True, ensure_ascii=False)\n",
    "print(parsedRes)"
   ]
  },
  {
   "cell_type": "code",
   "execution_count": 6,
   "id": "db9393b2-b7f0-4f4d-8256-d50a174d1511",
   "metadata": {},
   "outputs": [
    {
     "name": "stdout",
     "output_type": "stream",
     "text": [
      "Reading tweets.bz2, created at 18/12/2022 09:57:04\n"
     ]
    },
    {
     "data": {
      "text/html": [
       "<div>\n",
       "<style scoped>\n",
       "    .dataframe tbody tr th:only-of-type {\n",
       "        vertical-align: middle;\n",
       "    }\n",
       "\n",
       "    .dataframe tbody tr th {\n",
       "        vertical-align: top;\n",
       "    }\n",
       "\n",
       "    .dataframe thead th {\n",
       "        text-align: right;\n",
       "    }\n",
       "</style>\n",
       "<table border=\"1\" class=\"dataframe\">\n",
       "  <thead>\n",
       "    <tr style=\"text-align: right;\">\n",
       "      <th></th>\n",
       "      <th>id</th>\n",
       "      <th>in_reply_to_user_id</th>\n",
       "      <th>conversation_id</th>\n",
       "      <th>reply_settings</th>\n",
       "      <th>edit_history_tweet_ids</th>\n",
       "      <th>public_metrics</th>\n",
       "      <th>created_at</th>\n",
       "      <th>source</th>\n",
       "      <th>author_id</th>\n",
       "      <th>referenced_tweets</th>\n",
       "      <th>text</th>\n",
       "      <th>lang</th>\n",
       "    </tr>\n",
       "  </thead>\n",
       "  <tbody>\n",
       "    <tr>\n",
       "      <th>6</th>\n",
       "      <td>1603354556380889089</td>\n",
       "      <td>2.589328e+09</td>\n",
       "      <td>1603033104960167936</td>\n",
       "      <td>everyone</td>\n",
       "      <td>['1603354556380889089']</td>\n",
       "      <td>{'retweet_count': 0, 'reply_count': 1, 'like_c...</td>\n",
       "      <td>2022-12-15T11:41:29.000Z</td>\n",
       "      <td>Twitter Web App</td>\n",
       "      <td>1113016486321405952</td>\n",
       "      <td>[{'type': 'replied_to', 'id': '160303310496016...</td>\n",
       "      <td>@agriculture_ie @McConalogue @UKRinIRL @Gerask...</td>\n",
       "      <td>en</td>\n",
       "    </tr>\n",
       "  </tbody>\n",
       "</table>\n",
       "</div>"
      ],
      "text/plain": [
       "                    id  in_reply_to_user_id      conversation_id  \\\n",
       "6  1603354556380889089         2.589328e+09  1603033104960167936   \n",
       "\n",
       "  reply_settings   edit_history_tweet_ids  \\\n",
       "6       everyone  ['1603354556380889089']   \n",
       "\n",
       "                                      public_metrics  \\\n",
       "6  {'retweet_count': 0, 'reply_count': 1, 'like_c...   \n",
       "\n",
       "                 created_at           source            author_id  \\\n",
       "6  2022-12-15T11:41:29.000Z  Twitter Web App  1113016486321405952   \n",
       "\n",
       "                                   referenced_tweets  \\\n",
       "6  [{'type': 'replied_to', 'id': '160303310496016...   \n",
       "\n",
       "                                                text lang  \n",
       "6  @agriculture_ie @McConalogue @UKRinIRL @Gerask...   en  "
      ]
     },
     "execution_count": 6,
     "metadata": {},
     "output_type": "execute_result"
    }
   ],
   "source": [
    "tweets = get_tweets(query_params,'tweets')\n",
    "tweets.sample()"
   ]
  },
  {
   "cell_type": "markdown",
   "id": "a4aeddaa-cefe-4e2e-8de2-2da07673ba09",
   "metadata": {},
   "source": [
    "# Clean Your Text Data"
   ]
  },
  {
   "cell_type": "markdown",
   "id": "dead89be-b008-457a-b756-743f9679d0a6",
   "metadata": {},
   "source": [
    "## Worlds extractions"
   ]
  },
  {
   "cell_type": "code",
   "execution_count": 88,
   "id": "e77d4845-61f5-473f-8c7d-10007e17c096",
   "metadata": {},
   "outputs": [],
   "source": [
    "def clean_tweet(x, link, keyword, usernames):\n",
    "    list_of_lists =[]\n",
    "    if link == True:\n",
    "        list_of_links = []\n",
    "        words = x.split(' ')\n",
    "        for word in words:\n",
    "            if re.search('http', word):\n",
    "                list_of_links.append(re.split(\"\\W+\",word.lower()))\n",
    "        if len(list_of_links) > 0:\n",
    "            list_of_lists.append(list_of_links[0])\n",
    "    \n",
    "    if keyword == True:\n",
    "        list_of_keywords = []\n",
    "        words = x.split()\n",
    "        for word in words:\n",
    "            if word.startswith('#'):\n",
    "                list_of_keywords.append(word)\n",
    "        if len(list_of_keywords) > 0:\n",
    "            list_of_lists.append(list_of_keywords)\n",
    "            \n",
    "    if usernames == True:\n",
    "        list_of_usernames = []\n",
    "        words = x.split()\n",
    "        for word in words:\n",
    "            if word.startswith('@'):\n",
    "                list_of_usernames.append(word.lower().replace('@',''))\n",
    "        if len(list_of_usernames) > 0:\n",
    "            list_of_lists.append(list_of_usernames)\n",
    "    \n",
    "    return  [item for sublist in list_of_lists for item in sublist]\n",
    "\n",
    "        \n",
    "# keyword extraction from tweets\n",
    "def get_keywords(x):\n",
    "    list_of_keywords = []\n",
    "    words = x.split()\n",
    "    for word in words:\n",
    "        if word.startswith('#'):\n",
    "            list_of_keywords.append(word)\n",
    "    return list_of_keywords\n"
   ]
  },
  {
   "cell_type": "code",
   "execution_count": 89,
   "id": "8e75c4a2-c05a-4c40-96fb-e4a875f809bf",
   "metadata": {},
   "outputs": [],
   "source": [
    "list_of_lists = tweets['text'].apply(lambda tweet : clean_tweet(tweet, link = True, keyword = False, usernames = True))\n",
    "rem_list = [item for sublist in list_of_lists for item in sublist]\n",
    "\n",
    "tweets['text_c'] = tweets['text'].apply( lambda tweet : ' '.join([word for word in re.split(\"\\W+\",tweet) if word.lower() not in rem_list]))"
   ]
  },
  {
   "cell_type": "code",
   "execution_count": 90,
   "id": "02cf3a80-7754-49f6-ad1e-abc74bd2a5af",
   "metadata": {},
   "outputs": [],
   "source": [
    "tweets['keywords'] = tweets['text'].apply( lambda tweet : get_keywords(tweet) )"
   ]
  },
  {
   "cell_type": "code",
   "execution_count": 91,
   "id": "3aacee4f-7872-4d82-9c7d-e26b40459c3f",
   "metadata": {},
   "outputs": [
    {
     "name": "stdout",
     "output_type": "stream",
     "text": [
      "Celebrating🌍Africa’s food and farmers | Joan Baxter 🍁🎤📻✍️📰📚🇨🇦 @joan_baxter\n",
      "https://t.co/Kno3bOkfKK @Comhlamh @farmersjournal @AgriAware @MacranaFeirme @IrelandDSA @teagasc @Irish_Aid @IrishSchSusty @TCBotanicGarden @NBGGlasnevin @agriculture_ie @ecowas_agric @BiaAmachAnseo \n",
      "\n",
      "Celebrating Africa s food and farmers Joan Baxter\n"
     ]
    }
   ],
   "source": [
    "n = 1\n",
    "print(tweets['text'][n], '\\n')\n",
    "print(tweets['text_c'][n])"
   ]
  },
  {
   "cell_type": "markdown",
   "id": "05495ec4-c735-4de4-ac3c-97ec5336f5aa",
   "metadata": {
    "tags": []
   },
   "source": [
    "## PoterStemmer"
   ]
  },
  {
   "cell_type": "code",
   "execution_count": 11,
   "id": "3d017ded-762a-4d2e-83a1-5c77ddd7a2c1",
   "metadata": {},
   "outputs": [],
   "source": [
    "# Store the stopwords into the object named as \"stop_words\"\n",
    "stop_words = stopwords.words('english')\n",
    "\n",
    "# Store the string.punctuation into an object punct\n",
    "punct = string.punctuation\n",
    "\n",
    "# Initialise an object using a method PorterStemmer\n",
    "stemmer = PorterStemmer()"
   ]
  },
  {
   "cell_type": "code",
   "execution_count": 31,
   "id": "22f436cc-944d-421b-9e5f-b0d8b9db2720",
   "metadata": {},
   "outputs": [],
   "source": [
    "def stremming(df, text_col, name_new_col):\n",
    "    # Store the column of the dataframe named as \"text\"\n",
    "    X = df[text_col]\n",
    "    cleaned_data=[]\n",
    "    # For loop from first value to length(X), ^a-zA-Z means include small and capital case letters\n",
    "    for i in range(len(X)):\n",
    "        text = re.sub('[^a-zA-Z]', ' ', X.iloc[i])\n",
    "        text = text.lower().split()\n",
    "        text = [stemmer.stem(word) for word in text if (word not in stop_words) and (word not in punct)]\n",
    "        text = ' '.join(text)\n",
    "        df.loc[ i ,name_new_col] = text\n",
    "    print('Stremmer done!')"
   ]
  },
  {
   "cell_type": "code",
   "execution_count": 32,
   "id": "4daa44e1-e9b6-45e9-9558-4ed03ce04eee",
   "metadata": {},
   "outputs": [
    {
     "name": "stdout",
     "output_type": "stream",
     "text": [
      "Stremmer done!\n"
     ]
    }
   ],
   "source": [
    "stremming(tweets, 'text_c', 'text_ps')"
   ]
  },
  {
   "cell_type": "code",
   "execution_count": 33,
   "id": "1bf02984-820b-4a28-8f1a-dd801d25c847",
   "metadata": {},
   "outputs": [
    {
     "name": "stdout",
     "output_type": "stream",
     "text": [
      "@MarkBehan4 @McConalogue @GeraskoLarysa @FAO @agriculture_ie @FAODG @fiannafailparty @OgraFiannaFail OK this I agree with, their duty firstly should be to irish farmers, plenty of them struggling. \n",
      "\n",
      "ok agre duti firstli irish farmer plenti struggl \n",
      "\n"
     ]
    }
   ],
   "source": [
    "print(tweets['text'][0], '\\n')\n",
    "print(tweets['text_ps'][0], '\\n')"
   ]
  },
  {
   "cell_type": "markdown",
   "id": "1c75f0ff-efcc-4bc1-8f83-5cfe08074244",
   "metadata": {},
   "source": [
    "# Sentiment Analyzes"
   ]
  },
  {
   "cell_type": "markdown",
   "id": "71c6b817-f690-4816-9bb7-eca288a23508",
   "metadata": {},
   "source": [
    "TextBlob is a Python (2 and 3) library for processing textual data. It provides a simple API for diving into common natural language processing (NLP) tasks such as part-of-speech tagging, noun phrase extraction, sentiment analysis, classification, translation, and more. [link](https://textblob.readthedocs.io/en/dev/index.html)"
   ]
  },
  {
   "cell_type": "code",
   "execution_count": 14,
   "id": "be6f0424-270d-4d33-a4d2-a561f9dc4d06",
   "metadata": {},
   "outputs": [
    {
     "data": {
      "text/html": [
       "<div>\n",
       "<style scoped>\n",
       "    .dataframe tbody tr th:only-of-type {\n",
       "        vertical-align: middle;\n",
       "    }\n",
       "\n",
       "    .dataframe tbody tr th {\n",
       "        vertical-align: top;\n",
       "    }\n",
       "\n",
       "    .dataframe thead th {\n",
       "        text-align: right;\n",
       "    }\n",
       "</style>\n",
       "<table border=\"1\" class=\"dataframe\">\n",
       "  <thead>\n",
       "    <tr style=\"text-align: right;\">\n",
       "      <th></th>\n",
       "      <th>id</th>\n",
       "      <th>in_reply_to_user_id</th>\n",
       "      <th>conversation_id</th>\n",
       "      <th>reply_settings</th>\n",
       "      <th>edit_history_tweet_ids</th>\n",
       "      <th>public_metrics</th>\n",
       "      <th>created_at</th>\n",
       "      <th>source</th>\n",
       "      <th>author_id</th>\n",
       "      <th>referenced_tweets</th>\n",
       "      <th>text</th>\n",
       "      <th>lang</th>\n",
       "      <th>text_c</th>\n",
       "      <th>keywords</th>\n",
       "      <th>text_ps</th>\n",
       "      <th>TextBlob</th>\n",
       "      <th>Vader</th>\n",
       "    </tr>\n",
       "  </thead>\n",
       "  <tbody>\n",
       "    <tr>\n",
       "      <th>7</th>\n",
       "      <td>1603322521692307456</td>\n",
       "      <td>NaN</td>\n",
       "      <td>1603322521692307456</td>\n",
       "      <td>everyone</td>\n",
       "      <td>['1603322521692307456']</td>\n",
       "      <td>{'retweet_count': 2, 'reply_count': 0, 'like_c...</td>\n",
       "      <td>2022-12-15T09:34:12.000Z</td>\n",
       "      <td>Twitter Web App</td>\n",
       "      <td>194513294</td>\n",
       "      <td>NaN</td>\n",
       "      <td>Interesting times ahead for the Irish #organic...</td>\n",
       "      <td>en</td>\n",
       "      <td>Interesting times ahead for the Irish organic ...</td>\n",
       "      <td>[#organic, #organicfarming]</td>\n",
       "      <td>interest time ahead irish organ sector organic...</td>\n",
       "      <td>0.000000</td>\n",
       "      <td>0.4588</td>\n",
       "    </tr>\n",
       "    <tr>\n",
       "      <th>4</th>\n",
       "      <td>1603511870475964416</td>\n",
       "      <td>1.210185e+18</td>\n",
       "      <td>1603429755537092624</td>\n",
       "      <td>everyone</td>\n",
       "      <td>['1603511870475964416']</td>\n",
       "      <td>{'retweet_count': 0, 'reply_count': 1, 'like_c...</td>\n",
       "      <td>2022-12-15T22:06:36.000Z</td>\n",
       "      <td>Twitter for Android</td>\n",
       "      <td>4267513701</td>\n",
       "      <td>[{'type': 'replied_to', 'id': '160350533130847...</td>\n",
       "      <td>@GameOnClimate Most farmers accept that change...</td>\n",
       "      <td>en</td>\n",
       "      <td>Most farmers accept that changes are needed bu...</td>\n",
       "      <td>[]</td>\n",
       "      <td>farmer accept chang need agricultur alway evol...</td>\n",
       "      <td>0.053333</td>\n",
       "      <td>0.4588</td>\n",
       "    </tr>\n",
       "  </tbody>\n",
       "</table>\n",
       "</div>"
      ],
      "text/plain": [
       "                    id  in_reply_to_user_id      conversation_id  \\\n",
       "7  1603322521692307456                  NaN  1603322521692307456   \n",
       "4  1603511870475964416         1.210185e+18  1603429755537092624   \n",
       "\n",
       "  reply_settings   edit_history_tweet_ids  \\\n",
       "7       everyone  ['1603322521692307456']   \n",
       "4       everyone  ['1603511870475964416']   \n",
       "\n",
       "                                      public_metrics  \\\n",
       "7  {'retweet_count': 2, 'reply_count': 0, 'like_c...   \n",
       "4  {'retweet_count': 0, 'reply_count': 1, 'like_c...   \n",
       "\n",
       "                 created_at               source   author_id  \\\n",
       "7  2022-12-15T09:34:12.000Z      Twitter Web App   194513294   \n",
       "4  2022-12-15T22:06:36.000Z  Twitter for Android  4267513701   \n",
       "\n",
       "                                   referenced_tweets  \\\n",
       "7                                                NaN   \n",
       "4  [{'type': 'replied_to', 'id': '160350533130847...   \n",
       "\n",
       "                                                text lang  \\\n",
       "7  Interesting times ahead for the Irish #organic...   en   \n",
       "4  @GameOnClimate Most farmers accept that change...   en   \n",
       "\n",
       "                                              text_c  \\\n",
       "7  Interesting times ahead for the Irish organic ...   \n",
       "4  Most farmers accept that changes are needed bu...   \n",
       "\n",
       "                      keywords  \\\n",
       "7  [#organic, #organicfarming]   \n",
       "4                           []   \n",
       "\n",
       "                                             text_ps  TextBlob   Vader  \n",
       "7  interest time ahead irish organ sector organic...  0.000000  0.4588  \n",
       "4  farmer accept chang need agricultur alway evol...  0.053333  0.4588  "
      ]
     },
     "execution_count": 14,
     "metadata": {},
     "output_type": "execute_result"
    }
   ],
   "source": [
    "for i in tweets.index:\n",
    "    text = tweets.loc[i,'text_ps']\n",
    "    tweets.loc[i, 'TextBlob'] = TextBlob(text).sentiment.polarity\n",
    "    #print(TextBlob(text).sentiment.polarity)\n",
    "    tweets.loc[i, 'Vader'] = SentimentIntensityAnalyzer().polarity_scores(text)['compound']\n",
    "    #print(SentimentIntensityAnalyzer().polarity_scores(text)['compound'], '\\n')\n",
    "    \n",
    "tweets.sample(2)"
   ]
  },
  {
   "cell_type": "code",
   "execution_count": 15,
   "id": "20692767-6953-4c5a-afc3-c572133f1b22",
   "metadata": {},
   "outputs": [],
   "source": [
    "def get_polarity(df, col):\n",
    "\n",
    "    polarity = 0\n",
    "    neutral = 0\n",
    "    wpositive = 0\n",
    "    positive = 0\n",
    "    spositive = 0\n",
    "    wnegative = 0\n",
    "    negative = 0\n",
    "    snegative = 0\n",
    "     \n",
    "    for t in df.index:\n",
    "        \n",
    "        v = df.loc[t, col]\n",
    "        polarity += v  # adding up polarities to find the average later\n",
    "\n",
    "        if (v == 0):  # adding reaction of how people are reacting to find average later\n",
    "            neutral += 1\n",
    "            desc = 'neutral'\n",
    "        elif (v > 0 and v <= 0.3):\n",
    "            wpositive += 1\n",
    "            desc ='weak_positive'\n",
    "        elif (v > 0.3 and v <= 0.6):\n",
    "            positive += 1\n",
    "            desc = 'positive'\n",
    "        elif (v > 0.6 and v <= 1):\n",
    "            spositive += 1\n",
    "            desc = 'strong_positive'\n",
    "        elif (v > -0.3 and v <= 0):\n",
    "            wnegative += 1\n",
    "            desc = 'weak_negative'\n",
    "        elif (v > -0.6 and v <= -0.3):\n",
    "            negative += 1\n",
    "            desc = 'negative'\n",
    "        elif (v > -1 and v <= -0.6):\n",
    "            snegative += 1\n",
    "            desc = 'strong_negative'\n",
    "         \n",
    "        df.loc[t, f'{col}_desc'] = desc\n",
    "        \n",
    "\n",
    "    return {'polarity_sum':polarity,\n",
    "            'polarity_mean':(polarity / len(df)),\n",
    "            'neutral':neutral,\n",
    "            'strong_positive':spositive,\n",
    "            'positive':positive,\n",
    "            'weak_positive':wpositive,\n",
    "            'weak_negative':wnegative,\n",
    "            'negative':negative,\n",
    "            'strong_negative':snegative}\n",
    "\n",
    "\n"
   ]
  },
  {
   "cell_type": "code",
   "execution_count": 16,
   "id": "90a9864e-2155-4fc0-9154-82d2544a2da9",
   "metadata": {},
   "outputs": [
    {
     "data": {
      "text/plain": [
       "{'polarity_sum': 0.9783333333333334,\n",
       " 'polarity_mean': 0.09783333333333334,\n",
       " 'neutral': 5,\n",
       " 'strong_positive': 0,\n",
       " 'positive': 1,\n",
       " 'weak_positive': 4,\n",
       " 'weak_negative': 0,\n",
       " 'negative': 0,\n",
       " 'strong_negative': 0}"
      ]
     },
     "execution_count": 16,
     "metadata": {},
     "output_type": "execute_result"
    }
   ],
   "source": [
    "get_polarity(tweets,'TextBlob')"
   ]
  },
  {
   "cell_type": "code",
   "execution_count": 17,
   "id": "58ccdc01-f6c2-4a3f-9e1a-ea8688effb1b",
   "metadata": {},
   "outputs": [
    {
     "data": {
      "text/plain": [
       "{'polarity_sum': 3.9924999999999997,\n",
       " 'polarity_mean': 0.39925,\n",
       " 'neutral': 1,\n",
       " 'strong_positive': 2,\n",
       " 'positive': 5,\n",
       " 'weak_positive': 1,\n",
       " 'weak_negative': 1,\n",
       " 'negative': 0,\n",
       " 'strong_negative': 0}"
      ]
     },
     "execution_count": 17,
     "metadata": {},
     "output_type": "execute_result"
    }
   ],
   "source": [
    "get_polarity(tweets,'Vader')"
   ]
  },
  {
   "cell_type": "code",
   "execution_count": 18,
   "id": "db5c2e3c-a707-450f-bb85-c7327834ad00",
   "metadata": {},
   "outputs": [
    {
     "data": {
      "text/html": [
       "<div>\n",
       "<style scoped>\n",
       "    .dataframe tbody tr th:only-of-type {\n",
       "        vertical-align: middle;\n",
       "    }\n",
       "\n",
       "    .dataframe tbody tr th {\n",
       "        vertical-align: top;\n",
       "    }\n",
       "\n",
       "    .dataframe thead th {\n",
       "        text-align: right;\n",
       "    }\n",
       "</style>\n",
       "<table border=\"1\" class=\"dataframe\">\n",
       "  <thead>\n",
       "    <tr style=\"text-align: right;\">\n",
       "      <th></th>\n",
       "      <th>id</th>\n",
       "      <th>in_reply_to_user_id</th>\n",
       "      <th>conversation_id</th>\n",
       "      <th>reply_settings</th>\n",
       "      <th>edit_history_tweet_ids</th>\n",
       "      <th>public_metrics</th>\n",
       "      <th>created_at</th>\n",
       "      <th>source</th>\n",
       "      <th>author_id</th>\n",
       "      <th>referenced_tweets</th>\n",
       "      <th>text</th>\n",
       "      <th>lang</th>\n",
       "      <th>text_c</th>\n",
       "      <th>keywords</th>\n",
       "      <th>text_ps</th>\n",
       "      <th>TextBlob</th>\n",
       "      <th>Vader</th>\n",
       "      <th>TextBlob_desc</th>\n",
       "      <th>Vader_desc</th>\n",
       "    </tr>\n",
       "  </thead>\n",
       "  <tbody>\n",
       "    <tr>\n",
       "      <th>6</th>\n",
       "      <td>1603354556380889089</td>\n",
       "      <td>2.589328e+09</td>\n",
       "      <td>1603033104960167936</td>\n",
       "      <td>everyone</td>\n",
       "      <td>['1603354556380889089']</td>\n",
       "      <td>{'retweet_count': 0, 'reply_count': 1, 'like_c...</td>\n",
       "      <td>2022-12-15T11:41:29.000Z</td>\n",
       "      <td>Twitter Web App</td>\n",
       "      <td>1113016486321405952</td>\n",
       "      <td>[{'type': 'replied_to', 'id': '160303310496016...</td>\n",
       "      <td>@agriculture_ie @McConalogue @UKRinIRL @Gerask...</td>\n",
       "      <td>en</td>\n",
       "      <td>Great any chance you might do something for ir...</td>\n",
       "      <td>[]</td>\n",
       "      <td>great chanc might someth irish farmer see cont...</td>\n",
       "      <td>0.4</td>\n",
       "      <td>0.6249</td>\n",
       "      <td>positive</td>\n",
       "      <td>strong_positive</td>\n",
       "    </tr>\n",
       "  </tbody>\n",
       "</table>\n",
       "</div>"
      ],
      "text/plain": [
       "                    id  in_reply_to_user_id      conversation_id  \\\n",
       "6  1603354556380889089         2.589328e+09  1603033104960167936   \n",
       "\n",
       "  reply_settings   edit_history_tweet_ids  \\\n",
       "6       everyone  ['1603354556380889089']   \n",
       "\n",
       "                                      public_metrics  \\\n",
       "6  {'retweet_count': 0, 'reply_count': 1, 'like_c...   \n",
       "\n",
       "                 created_at           source            author_id  \\\n",
       "6  2022-12-15T11:41:29.000Z  Twitter Web App  1113016486321405952   \n",
       "\n",
       "                                   referenced_tweets  \\\n",
       "6  [{'type': 'replied_to', 'id': '160303310496016...   \n",
       "\n",
       "                                                text lang  \\\n",
       "6  @agriculture_ie @McConalogue @UKRinIRL @Gerask...   en   \n",
       "\n",
       "                                              text_c keywords  \\\n",
       "6  Great any chance you might do something for ir...       []   \n",
       "\n",
       "                                             text_ps  TextBlob   Vader  \\\n",
       "6  great chanc might someth irish farmer see cont...       0.4  0.6249   \n",
       "\n",
       "  TextBlob_desc       Vader_desc  \n",
       "6      positive  strong_positive  "
      ]
     },
     "execution_count": 18,
     "metadata": {},
     "output_type": "execute_result"
    }
   ],
   "source": [
    "tweets.sample()"
   ]
  },
  {
   "cell_type": "code",
   "execution_count": 34,
   "id": "257a80b8-1d52-4e9e-9094-1c9dfe9114c0",
   "metadata": {},
   "outputs": [
    {
     "name": "stdout",
     "output_type": "stream",
     "text": [
      "Text Original: Diarmuid is passionate about the success of Irish #agriculture. He brings a wealth of knowledge &amp; experience to his interactions with #farmers &amp; other #agricultural stakeholders. https://t.co/mP9CC4LXQB \n",
      " -------------------------------------------------------------------------------------------\n",
      "Text Clear: Diarmuid is passionate about the success of Irish agriculture He brings a wealth of knowledge amp experience to his interactions with farmers amp other agricultural stakeholders \n",
      " -------------------------------------------------------------------------------------------\n",
      "Text Steammed: diarmuid passion success irish agricultur bring wealth knowledg amp experi interact farmer amp agricultur stakehold \n",
      " -------------------------------------------------------------------------------------------\n",
      "KeyWords: ['#agriculture.', '#farmers', '#agricultural'] \n",
      " -------------------------------------------------------------------------------------------\n",
      "TextBlob:  0.15 weak_positive\n",
      "Vader:  0.872 strong_positive\n"
     ]
    }
   ],
   "source": [
    "##Checking Twitters\n",
    "\n",
    "n = 9\n",
    "print('Text Original:', tweets.loc[n, 'text'], '\\n',\n",
    "     '-------------------------------------------------------------------------------------------')\n",
    "print('Text Clear:', tweets.loc[n, 'text_c'], '\\n',\n",
    "     '-------------------------------------------------------------------------------------------')\n",
    "\n",
    "print('Text Steammed:', tweets.loc[n, 'text_ps'], '\\n',\n",
    "     '-------------------------------------------------------------------------------------------')\n",
    "\n",
    "print('KeyWords:', tweets.loc[n, 'keywords'], '\\n',\n",
    "     '-------------------------------------------------------------------------------------------')\n",
    "\n",
    "print('TextBlob: ',tweets.loc[n, 'TextBlob'], tweets.loc[n, 'TextBlob_desc'])\n",
    "print('Vader: ', tweets.loc[n, 'Vader'], tweets.loc[n, 'Vader_desc'])"
   ]
  },
  {
   "cell_type": "code",
   "execution_count": 20,
   "id": "e8add63f-2230-4811-941a-d4fd1e8ea7ee",
   "metadata": {},
   "outputs": [
    {
     "data": {
      "text/html": [
       "<div>\n",
       "<style scoped>\n",
       "    .dataframe tbody tr th:only-of-type {\n",
       "        vertical-align: middle;\n",
       "    }\n",
       "\n",
       "    .dataframe tbody tr th {\n",
       "        vertical-align: top;\n",
       "    }\n",
       "\n",
       "    .dataframe thead th {\n",
       "        text-align: right;\n",
       "    }\n",
       "</style>\n",
       "<table border=\"1\" class=\"dataframe\">\n",
       "  <thead>\n",
       "    <tr style=\"text-align: right;\">\n",
       "      <th></th>\n",
       "      <th>keywords</th>\n",
       "      <th>text_ps</th>\n",
       "      <th>TextBlob</th>\n",
       "      <th>Vader</th>\n",
       "      <th>TextBlob_desc</th>\n",
       "      <th>Vader_desc</th>\n",
       "    </tr>\n",
       "  </thead>\n",
       "  <tbody>\n",
       "    <tr>\n",
       "      <th>0</th>\n",
       "      <td>[]</td>\n",
       "      <td>ok agre duti firstli irish farmer plenti struggl</td>\n",
       "      <td>0.250000</td>\n",
       "      <td>0.2960</td>\n",
       "      <td>weak_positive</td>\n",
       "      <td>weak_positive</td>\n",
       "    </tr>\n",
       "    <tr>\n",
       "      <th>1</th>\n",
       "      <td>[]</td>\n",
       "      <td>celebr africa food farmer joan baxter</td>\n",
       "      <td>0.000000</td>\n",
       "      <td>0.0000</td>\n",
       "      <td>neutral</td>\n",
       "      <td>neutral</td>\n",
       "    </tr>\n",
       "    <tr>\n",
       "      <th>2</th>\n",
       "      <td>[]</td>\n",
       "      <td>irish farmer want cull herd put busi ukrainian...</td>\n",
       "      <td>0.000000</td>\n",
       "      <td>0.4588</td>\n",
       "      <td>neutral</td>\n",
       "      <td>positive</td>\n",
       "    </tr>\n",
       "    <tr>\n",
       "      <th>3</th>\n",
       "      <td>[]</td>\n",
       "      <td>screw irish farmer</td>\n",
       "      <td>0.000000</td>\n",
       "      <td>-0.1027</td>\n",
       "      <td>neutral</td>\n",
       "      <td>weak_negative</td>\n",
       "    </tr>\n",
       "    <tr>\n",
       "      <th>4</th>\n",
       "      <td>[]</td>\n",
       "      <td>farmer accept chang need agricultur alway evol...</td>\n",
       "      <td>0.053333</td>\n",
       "      <td>0.4588</td>\n",
       "      <td>weak_positive</td>\n",
       "      <td>positive</td>\n",
       "    </tr>\n",
       "    <tr>\n",
       "      <th>5</th>\n",
       "      <td>[]</td>\n",
       "      <td>turbul year input price output return dairi fa...</td>\n",
       "      <td>0.000000</td>\n",
       "      <td>0.5859</td>\n",
       "      <td>neutral</td>\n",
       "      <td>positive</td>\n",
       "    </tr>\n",
       "    <tr>\n",
       "      <th>6</th>\n",
       "      <td>[]</td>\n",
       "      <td>great chanc might someth irish farmer see cont...</td>\n",
       "      <td>0.400000</td>\n",
       "      <td>0.6249</td>\n",
       "      <td>positive</td>\n",
       "      <td>strong_positive</td>\n",
       "    </tr>\n",
       "    <tr>\n",
       "      <th>7</th>\n",
       "      <td>[#organic, #organicfarming]</td>\n",
       "      <td>interest time ahead irish organ sector organic...</td>\n",
       "      <td>0.000000</td>\n",
       "      <td>0.4588</td>\n",
       "      <td>neutral</td>\n",
       "      <td>positive</td>\n",
       "    </tr>\n",
       "    <tr>\n",
       "      <th>8</th>\n",
       "      <td>[]</td>\n",
       "      <td>irish farmer journal northern correspond one j...</td>\n",
       "      <td>0.125000</td>\n",
       "      <td>0.3400</td>\n",
       "      <td>weak_positive</td>\n",
       "      <td>positive</td>\n",
       "    </tr>\n",
       "    <tr>\n",
       "      <th>9</th>\n",
       "      <td>[#agriculture., #farmers, #agricultural]</td>\n",
       "      <td>diarmuid passion success irish agricultur brin...</td>\n",
       "      <td>0.150000</td>\n",
       "      <td>0.8720</td>\n",
       "      <td>weak_positive</td>\n",
       "      <td>strong_positive</td>\n",
       "    </tr>\n",
       "  </tbody>\n",
       "</table>\n",
       "</div>"
      ],
      "text/plain": [
       "                                   keywords  \\\n",
       "0                                        []   \n",
       "1                                        []   \n",
       "2                                        []   \n",
       "3                                        []   \n",
       "4                                        []   \n",
       "5                                        []   \n",
       "6                                        []   \n",
       "7               [#organic, #organicfarming]   \n",
       "8                                        []   \n",
       "9  [#agriculture., #farmers, #agricultural]   \n",
       "\n",
       "                                             text_ps  TextBlob   Vader  \\\n",
       "0   ok agre duti firstli irish farmer plenti struggl  0.250000  0.2960   \n",
       "1              celebr africa food farmer joan baxter  0.000000  0.0000   \n",
       "2  irish farmer want cull herd put busi ukrainian...  0.000000  0.4588   \n",
       "3                                 screw irish farmer  0.000000 -0.1027   \n",
       "4  farmer accept chang need agricultur alway evol...  0.053333  0.4588   \n",
       "5  turbul year input price output return dairi fa...  0.000000  0.5859   \n",
       "6  great chanc might someth irish farmer see cont...  0.400000  0.6249   \n",
       "7  interest time ahead irish organ sector organic...  0.000000  0.4588   \n",
       "8  irish farmer journal northern correspond one j...  0.125000  0.3400   \n",
       "9  diarmuid passion success irish agricultur brin...  0.150000  0.8720   \n",
       "\n",
       "   TextBlob_desc       Vader_desc  \n",
       "0  weak_positive    weak_positive  \n",
       "1        neutral          neutral  \n",
       "2        neutral         positive  \n",
       "3        neutral    weak_negative  \n",
       "4  weak_positive         positive  \n",
       "5        neutral         positive  \n",
       "6       positive  strong_positive  \n",
       "7        neutral         positive  \n",
       "8  weak_positive         positive  \n",
       "9  weak_positive  strong_positive  "
      ]
     },
     "execution_count": 20,
     "metadata": {},
     "output_type": "execute_result"
    }
   ],
   "source": [
    "tweets.iloc[:, -6:]"
   ]
  },
  {
   "cell_type": "markdown",
   "id": "2f1e7c79-0879-49b5-89f8-22752f114ae9",
   "metadata": {},
   "source": [
    "## Irony and Sarcasm\n",
    "\n",
    "Minimizing the impact of irony and sarcasm through hashing tags"
   ]
  },
  {
   "cell_type": "code",
   "execution_count": 44,
   "id": "d3f3bff5-51d0-4991-bac3-4f6f98cfc591",
   "metadata": {},
   "outputs": [],
   "source": [
    "from sklearn.model_selection import train_test_split\n",
    "from sklearn.metrics import confusion_matrix\n",
    "from sklearn.svm import LinearSVC\n",
    "from sklearn.model_selection import cross_val_score\n",
    "from sklearn.naive_bayes import GaussianNB\n",
    "from sklearn.linear_model import LogisticRegression\n",
    "from sklearn.ensemble import RandomForestClassifier\n",
    "from sklearn.feature_extraction.text import TfidfVectorizer"
   ]
  },
  {
   "cell_type": "code",
   "execution_count": 23,
   "id": "807c9b2e-6cc2-467d-8c8e-25a30ea4a224",
   "metadata": {},
   "outputs": [
    {
     "data": {
      "text/html": [
       "<div>\n",
       "<style scoped>\n",
       "    .dataframe tbody tr th:only-of-type {\n",
       "        vertical-align: middle;\n",
       "    }\n",
       "\n",
       "    .dataframe tbody tr th {\n",
       "        vertical-align: top;\n",
       "    }\n",
       "\n",
       "    .dataframe thead th {\n",
       "        text-align: right;\n",
       "    }\n",
       "</style>\n",
       "<table border=\"1\" class=\"dataframe\">\n",
       "  <thead>\n",
       "    <tr style=\"text-align: right;\">\n",
       "      <th></th>\n",
       "      <th>headline</th>\n",
       "      <th>is_sarcastic</th>\n",
       "    </tr>\n",
       "  </thead>\n",
       "  <tbody>\n",
       "    <tr>\n",
       "      <th>23224</th>\n",
       "      <td>'make daddy die' whispered into build-a-bear</td>\n",
       "      <td>1</td>\n",
       "    </tr>\n",
       "  </tbody>\n",
       "</table>\n",
       "</div>"
      ],
      "text/plain": [
       "                                           headline  is_sarcastic\n",
       "23224  'make daddy die' whispered into build-a-bear             1"
      ]
     },
     "execution_count": 23,
     "metadata": {},
     "output_type": "execute_result"
    }
   ],
   "source": [
    "news = pd.read_csv('sarcasm_headlines.bz2')\n",
    "news.sample()"
   ]
  },
  {
   "cell_type": "code",
   "execution_count": 24,
   "id": "144ff0f9-d5f9-4a1a-bc6b-1937bfcda176",
   "metadata": {},
   "outputs": [
    {
     "name": "stdout",
     "output_type": "stream",
     "text": [
      "headline        False\n",
      "is_sarcastic    False\n",
      "dtype: bool\n"
     ]
    }
   ],
   "source": [
    "print(news.isnull().any(axis = 0))"
   ]
  },
  {
   "cell_type": "code",
   "execution_count": 35,
   "id": "b8c5cabd-ac81-4f61-bd88-8532fba63e0b",
   "metadata": {},
   "outputs": [
    {
     "name": "stdout",
     "output_type": "stream",
     "text": [
      "Stremmer done!\n"
     ]
    }
   ],
   "source": [
    "stremming(news, 'headline', 'headline_ps')"
   ]
  },
  {
   "cell_type": "code",
   "execution_count": 43,
   "id": "a35696a6-e876-4c86-99c8-28c31e2f7156",
   "metadata": {},
   "outputs": [
    {
     "data": {
      "text/html": [
       "<div>\n",
       "<style scoped>\n",
       "    .dataframe tbody tr th:only-of-type {\n",
       "        vertical-align: middle;\n",
       "    }\n",
       "\n",
       "    .dataframe tbody tr th {\n",
       "        vertical-align: top;\n",
       "    }\n",
       "\n",
       "    .dataframe thead th {\n",
       "        text-align: right;\n",
       "    }\n",
       "</style>\n",
       "<table border=\"1\" class=\"dataframe\">\n",
       "  <thead>\n",
       "    <tr style=\"text-align: right;\">\n",
       "      <th></th>\n",
       "      <th>headline</th>\n",
       "      <th>is_sarcastic</th>\n",
       "      <th>headline_ps</th>\n",
       "    </tr>\n",
       "  </thead>\n",
       "  <tbody>\n",
       "    <tr>\n",
       "      <th>24456</th>\n",
       "      <td>family now openly wondering when grandma will die</td>\n",
       "      <td>1</td>\n",
       "      <td>famili openli wonder grandma die</td>\n",
       "    </tr>\n",
       "    <tr>\n",
       "      <th>7320</th>\n",
       "      <td>hubble telescope desperately struggling to con...</td>\n",
       "      <td>1</td>\n",
       "      <td>hubbl telescop desper struggl contact nasa wit...</td>\n",
       "    </tr>\n",
       "  </tbody>\n",
       "</table>\n",
       "</div>"
      ],
      "text/plain": [
       "                                                headline  is_sarcastic  \\\n",
       "24456  family now openly wondering when grandma will die             1   \n",
       "7320   hubble telescope desperately struggling to con...             1   \n",
       "\n",
       "                                             headline_ps  \n",
       "24456                   famili openli wonder grandma die  \n",
       "7320   hubbl telescop desper struggl contact nasa wit...  "
      ]
     },
     "execution_count": 43,
     "metadata": {},
     "output_type": "execute_result"
    }
   ],
   "source": [
    "news.sample(2)"
   ]
  },
  {
   "cell_type": "code",
   "execution_count": 48,
   "id": "89da3d5f-ade0-4bbb-9347-27fda1d84d6d",
   "metadata": {},
   "outputs": [],
   "source": [
    "def create_features(df, col, max_feat):\n",
    "    features = df[col]\n",
    "\n",
    "    # vectorizing the data with maximum features\n",
    "    tv = TfidfVectorizer(max_features = max_feat)\n",
    "    features = list(features)\n",
    "    features = tv.fit_transform(features).toarray()\n",
    "    \n",
    "    return features"
   ]
  },
  {
   "cell_type": "code",
   "execution_count": 60,
   "id": "6eadf98f-4d8c-4ba3-8db8-6435afb36ec9",
   "metadata": {},
   "outputs": [],
   "source": [
    "features = create_features(news, 'headline_ps', 100)\n",
    "labels = news['is_sarcastic']"
   ]
  },
  {
   "cell_type": "code",
   "execution_count": 61,
   "id": "56eacc4a-5c35-4830-89b3-8657354f2da8",
   "metadata": {},
   "outputs": [],
   "source": [
    "# getting training and testing data\n",
    "features_train, features_test, labels_train, labels_test = train_test_split(features, labels, test_size = .05, random_state = 0)"
   ]
  },
  {
   "cell_type": "code",
   "execution_count": 62,
   "id": "c2d6160f-3ab9-45f9-99c1-58a414f2f2a7",
   "metadata": {},
   "outputs": [
    {
     "name": "stdout",
     "output_type": "stream",
     "text": [
      "\n",
      "Linear Support Vector Classifier:\n",
      "Train:  0.6592834903243605\n",
      "Test:  0.6594311377245509\n",
      "\n",
      "Gaussuan Naive Bayes:\n",
      "Train:  0.6001655302881015\n",
      "Test:  0.6175149700598802\n",
      "\n",
      "Logistic Regression:\n",
      "Train:  0.6597564340046506\n",
      "Test:  0.6579341317365269\n",
      "\n",
      "Random Forest Classifier:\n",
      "Train:  0.7264414929255508\n",
      "Test:  0.6594311377245509\n"
     ]
    }
   ],
   "source": [
    "print('\\nLinear Support Vector Classifier:')\n",
    "lsvc = LinearSVC()\n",
    "lsvc.fit(features_train, labels_train)\n",
    "print('Train: ',lsvc.score(features_train, labels_train))\n",
    "print('Test: ',lsvc.score(features_test, labels_test))\n",
    "\n",
    "\n",
    "print('\\nGaussuan Naive Bayes:')\n",
    "gnb = GaussianNB()\n",
    "gnb.fit(features_train, labels_train)\n",
    "print('Train: ',gnb.score(features_train, labels_train))\n",
    "print('Test: ',gnb.score(features_test, labels_test))\n",
    "\n",
    "\n",
    "print('\\nLogistic Regression:')\n",
    "lr = LogisticRegression()\n",
    "lr.fit(features_train, labels_train)\n",
    "print('Train: ',lr.score(features_train, labels_train))\n",
    "print('Test: ',lr.score(features_test, labels_test))\n",
    "\n",
    "\n",
    "print('\\nRandom Forest Classifier:')\n",
    "rfc = RandomForestClassifier(n_estimators = 10, random_state = 0)\n",
    "rfc.fit(features_train, labels_train)\n",
    "print('Train: ',rfc.score(features_train, labels_train))\n",
    "print('Test: ',rfc.score(features_test, labels_test))"
   ]
  },
  {
   "cell_type": "markdown",
   "id": "3ceb459a-7204-4be6-abb3-272c6de7e094",
   "metadata": {},
   "source": [
    "### Prev"
   ]
  },
  {
   "cell_type": "code",
   "execution_count": 63,
   "id": "d7535429-6117-4e25-bf83-9e2c5196f19b",
   "metadata": {},
   "outputs": [],
   "source": [
    "prev = create_features(tweets, 'text_ps', 100)"
   ]
  },
  {
   "cell_type": "code",
   "execution_count": 66,
   "id": "ff59005e-cb16-4022-80d1-f57e57206b49",
   "metadata": {},
   "outputs": [],
   "source": [
    "tweets['is_sarcastic'] = lsvc.predict(prev)"
   ]
  },
  {
   "cell_type": "code",
   "execution_count": 68,
   "id": "8953ba5b-4f2e-40a6-8007-58e942b58e42",
   "metadata": {},
   "outputs": [
    {
     "data": {
      "text/html": [
       "<div>\n",
       "<style scoped>\n",
       "    .dataframe tbody tr th:only-of-type {\n",
       "        vertical-align: middle;\n",
       "    }\n",
       "\n",
       "    .dataframe tbody tr th {\n",
       "        vertical-align: top;\n",
       "    }\n",
       "\n",
       "    .dataframe thead th {\n",
       "        text-align: right;\n",
       "    }\n",
       "</style>\n",
       "<table border=\"1\" class=\"dataframe\">\n",
       "  <thead>\n",
       "    <tr style=\"text-align: right;\">\n",
       "      <th></th>\n",
       "      <th>id</th>\n",
       "      <th>in_reply_to_user_id</th>\n",
       "      <th>conversation_id</th>\n",
       "      <th>reply_settings</th>\n",
       "      <th>edit_history_tweet_ids</th>\n",
       "      <th>public_metrics</th>\n",
       "      <th>created_at</th>\n",
       "      <th>source</th>\n",
       "      <th>author_id</th>\n",
       "      <th>referenced_tweets</th>\n",
       "      <th>text</th>\n",
       "      <th>lang</th>\n",
       "      <th>text_c</th>\n",
       "      <th>keywords</th>\n",
       "      <th>text_ps</th>\n",
       "      <th>TextBlob</th>\n",
       "      <th>Vader</th>\n",
       "      <th>TextBlob_desc</th>\n",
       "      <th>Vader_desc</th>\n",
       "      <th>is_sarcastic</th>\n",
       "    </tr>\n",
       "  </thead>\n",
       "  <tbody>\n",
       "    <tr>\n",
       "      <th>1</th>\n",
       "      <td>1603760301194739712</td>\n",
       "      <td>NaN</td>\n",
       "      <td>1603760301194739712</td>\n",
       "      <td>everyone</td>\n",
       "      <td>['1603760301194739712']</td>\n",
       "      <td>{'retweet_count': 2, 'reply_count': 0, 'like_c...</td>\n",
       "      <td>2022-12-16T14:33:46.000Z</td>\n",
       "      <td>Twitter Web App</td>\n",
       "      <td>1321217184459272193</td>\n",
       "      <td>NaN</td>\n",
       "      <td>Celebrating🌍Africa’s food and farmers | Joan B...</td>\n",
       "      <td>en</td>\n",
       "      <td>Celebrating Africa s food and farmers Joan Baxter</td>\n",
       "      <td>[]</td>\n",
       "      <td>celebr africa food farmer joan baxter</td>\n",
       "      <td>0.0</td>\n",
       "      <td>0.0000</td>\n",
       "      <td>neutral</td>\n",
       "      <td>neutral</td>\n",
       "      <td>1</td>\n",
       "    </tr>\n",
       "    <tr>\n",
       "      <th>3</th>\n",
       "      <td>1603537716993757190</td>\n",
       "      <td>1.978979e+08</td>\n",
       "      <td>1603038191728365568</td>\n",
       "      <td>everyone</td>\n",
       "      <td>['1603537716993757190']</td>\n",
       "      <td>{'retweet_count': 0, 'reply_count': 0, 'like_c...</td>\n",
       "      <td>2022-12-15T23:49:18.000Z</td>\n",
       "      <td>Twitter for Android</td>\n",
       "      <td>1114989143145230341</td>\n",
       "      <td>[{'type': 'replied_to', 'id': '160303819172836...</td>\n",
       "      <td>@McConalogue @GeraskoLarysa @FAO @agriculture_...</td>\n",
       "      <td>en</td>\n",
       "      <td>Screw the Irish farmers</td>\n",
       "      <td>[]</td>\n",
       "      <td>screw irish farmer</td>\n",
       "      <td>0.0</td>\n",
       "      <td>-0.1027</td>\n",
       "      <td>neutral</td>\n",
       "      <td>weak_negative</td>\n",
       "      <td>1</td>\n",
       "    </tr>\n",
       "    <tr>\n",
       "      <th>6</th>\n",
       "      <td>1603354556380889089</td>\n",
       "      <td>2.589328e+09</td>\n",
       "      <td>1603033104960167936</td>\n",
       "      <td>everyone</td>\n",
       "      <td>['1603354556380889089']</td>\n",
       "      <td>{'retweet_count': 0, 'reply_count': 1, 'like_c...</td>\n",
       "      <td>2022-12-15T11:41:29.000Z</td>\n",
       "      <td>Twitter Web App</td>\n",
       "      <td>1113016486321405952</td>\n",
       "      <td>[{'type': 'replied_to', 'id': '160303310496016...</td>\n",
       "      <td>@agriculture_ie @McConalogue @UKRinIRL @Gerask...</td>\n",
       "      <td>en</td>\n",
       "      <td>Great any chance you might do something for ir...</td>\n",
       "      <td>[]</td>\n",
       "      <td>great chanc might someth irish farmer see cont...</td>\n",
       "      <td>0.4</td>\n",
       "      <td>0.6249</td>\n",
       "      <td>positive</td>\n",
       "      <td>strong_positive</td>\n",
       "      <td>0</td>\n",
       "    </tr>\n",
       "    <tr>\n",
       "      <th>2</th>\n",
       "      <td>1603707005147152385</td>\n",
       "      <td>1.978979e+08</td>\n",
       "      <td>1603038191728365568</td>\n",
       "      <td>everyone</td>\n",
       "      <td>['1603707005147152385']</td>\n",
       "      <td>{'retweet_count': 0, 'reply_count': 0, 'like_c...</td>\n",
       "      <td>2022-12-16T11:02:00.000Z</td>\n",
       "      <td>Twitter for Android</td>\n",
       "      <td>1469965454865321985</td>\n",
       "      <td>[{'type': 'replied_to', 'id': '160303819172836...</td>\n",
       "      <td>@McConalogue @GeraskoLarysa @FAO @agriculture_...</td>\n",
       "      <td>en</td>\n",
       "      <td>Irish farmers We want to cull the herd and put...</td>\n",
       "      <td>[]</td>\n",
       "      <td>irish farmer want cull herd put busi ukrainian...</td>\n",
       "      <td>0.0</td>\n",
       "      <td>0.4588</td>\n",
       "      <td>neutral</td>\n",
       "      <td>positive</td>\n",
       "      <td>0</td>\n",
       "    </tr>\n",
       "  </tbody>\n",
       "</table>\n",
       "</div>"
      ],
      "text/plain": [
       "                    id  in_reply_to_user_id      conversation_id  \\\n",
       "1  1603760301194739712                  NaN  1603760301194739712   \n",
       "3  1603537716993757190         1.978979e+08  1603038191728365568   \n",
       "6  1603354556380889089         2.589328e+09  1603033104960167936   \n",
       "2  1603707005147152385         1.978979e+08  1603038191728365568   \n",
       "\n",
       "  reply_settings   edit_history_tweet_ids  \\\n",
       "1       everyone  ['1603760301194739712']   \n",
       "3       everyone  ['1603537716993757190']   \n",
       "6       everyone  ['1603354556380889089']   \n",
       "2       everyone  ['1603707005147152385']   \n",
       "\n",
       "                                      public_metrics  \\\n",
       "1  {'retweet_count': 2, 'reply_count': 0, 'like_c...   \n",
       "3  {'retweet_count': 0, 'reply_count': 0, 'like_c...   \n",
       "6  {'retweet_count': 0, 'reply_count': 1, 'like_c...   \n",
       "2  {'retweet_count': 0, 'reply_count': 0, 'like_c...   \n",
       "\n",
       "                 created_at               source            author_id  \\\n",
       "1  2022-12-16T14:33:46.000Z      Twitter Web App  1321217184459272193   \n",
       "3  2022-12-15T23:49:18.000Z  Twitter for Android  1114989143145230341   \n",
       "6  2022-12-15T11:41:29.000Z      Twitter Web App  1113016486321405952   \n",
       "2  2022-12-16T11:02:00.000Z  Twitter for Android  1469965454865321985   \n",
       "\n",
       "                                   referenced_tweets  \\\n",
       "1                                                NaN   \n",
       "3  [{'type': 'replied_to', 'id': '160303819172836...   \n",
       "6  [{'type': 'replied_to', 'id': '160303310496016...   \n",
       "2  [{'type': 'replied_to', 'id': '160303819172836...   \n",
       "\n",
       "                                                text lang  \\\n",
       "1  Celebrating🌍Africa’s food and farmers | Joan B...   en   \n",
       "3  @McConalogue @GeraskoLarysa @FAO @agriculture_...   en   \n",
       "6  @agriculture_ie @McConalogue @UKRinIRL @Gerask...   en   \n",
       "2  @McConalogue @GeraskoLarysa @FAO @agriculture_...   en   \n",
       "\n",
       "                                              text_c keywords  \\\n",
       "1  Celebrating Africa s food and farmers Joan Baxter       []   \n",
       "3                            Screw the Irish farmers       []   \n",
       "6  Great any chance you might do something for ir...       []   \n",
       "2  Irish farmers We want to cull the herd and put...       []   \n",
       "\n",
       "                                             text_ps  TextBlob   Vader  \\\n",
       "1              celebr africa food farmer joan baxter       0.0  0.0000   \n",
       "3                                 screw irish farmer       0.0 -0.1027   \n",
       "6  great chanc might someth irish farmer see cont...       0.4  0.6249   \n",
       "2  irish farmer want cull herd put busi ukrainian...       0.0  0.4588   \n",
       "\n",
       "  TextBlob_desc       Vader_desc  is_sarcastic  \n",
       "1       neutral          neutral             1  \n",
       "3       neutral    weak_negative             1  \n",
       "6      positive  strong_positive             0  \n",
       "2       neutral         positive             0  "
      ]
     },
     "execution_count": 68,
     "metadata": {},
     "output_type": "execute_result"
    }
   ],
   "source": [
    "tweets.sample(4)"
   ]
  },
  {
   "cell_type": "code",
   "execution_count": null,
   "id": "28300fd1-d6f9-4862-ad14-cad72141951d",
   "metadata": {},
   "outputs": [],
   "source": []
  }
 ],
 "metadata": {
  "kernelspec": {
   "display_name": "Python 3 (ipykernel)",
   "language": "python",
   "name": "python3"
  },
  "language_info": {
   "codemirror_mode": {
    "name": "ipython",
    "version": 3
   },
   "file_extension": ".py",
   "mimetype": "text/x-python",
   "name": "python",
   "nbconvert_exporter": "python",
   "pygments_lexer": "ipython3",
   "version": "3.9.13"
  }
 },
 "nbformat": 4,
 "nbformat_minor": 5
}
